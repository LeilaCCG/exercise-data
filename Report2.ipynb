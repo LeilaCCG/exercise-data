{
 "cells": [
  {
   "cell_type": "markdown",
   "id": "fb661379",
   "metadata": {},
   "source": [
    "# Physical Activity Monitoring Report\n",
    "---"
   ]
  },
  {
   "cell_type": "markdown",
   "id": "bf9cd612",
   "metadata": {},
   "source": [
    "# Table of contents\n",
    "1. [Introduction](#introduction)\n",
    "2. [Data Cleaning and Filtering](#cleaning)\n",
    "3. [Downsampling](#downsampling)\n",
    "4. [Development and Test Set](#devandtest)\n",
    "5. [Exploratory Data Analysis](#eda)\n",
    "6. [Hypothesis Testing](#hyp)\n",
    "7. [Principle Component Analysis](#PCA)\n",
    "8. [Clustering](#clustering)\n",
    "9. [Logistical Regression](#logreg)\n",
    "10. [Recommendations and Summary](#recs)"
   ]
  },
  {
   "cell_type": "markdown",
   "id": "a13bafaa",
   "metadata": {},
   "source": [
    "---\n",
    "## 1. Introduction <a name=\"introduction\"></a>\n",
    "This report will analyse the data provided by UCI Machine Learning Reposity on Physical Activity Monitoring Data Set.\n",
    "The data provided is from 9 participants, 8 males and 1 female. Each participant engaged in several activities while wearing a heart rate monitor (sampling frequency ~9Hz) and three Colibri wireless inertial measuring units (sampling frequency 100Hz), on their chest, hand and ankle.\n",
    "\n",
    "\n",
    "In this report I will make recommendations on how to develop software or hardware to:\n",
    "- Determine the **amount** of physical activity performed, this can be done in two ways; heart rate or duration. I will focus on heart rate in my report.\n",
    "- Determine the **type** of activity performed\n",
    "---\n",
    "### Overview of specific requirements\n",
    "- **Data cleaning and Exploratory Data Analysis**\n",
    "\n",
    "I will first clean my data by removing columns that are noted in the 'readme' file to not be accurate. Therefore I will delete the 6g accelerometer data and orientation data. I will also remove all of the rows where the activityID is 0 since we only want to analyse data that has a specific activity related to it.\n",
    "\n",
    "I will focus mainly on grouping the data by activity for my exploratory data analysis so that I can work on developing recommendations to find the type of activity based on the data. I will look at:\n",
    "- the comparison between each activity and their mean heart rate\n",
    "- the comparison between each activity and their gyroscope data\n",
    "- the comparison between each activity and their mean temperature across their chest, hand and ankle\n",
    "\n",
    "\n",
    "---\n",
    "- **Hypothesis Testing**\n",
    "\n",
    "I will run three hypothesis tests based on my Exploratory Data Analysis:\n",
    "\n",
    ">**If** higher intensity activities are related to heart rate, **then** when intensive activities are performed heart rate will be higher than those who are performing lower intensity activities.\n",
    "\n",
    "If this test is shown to be statistically accurate then I could recommend that increased heart rate suggests the user is exercising.\n",
    "\n",
    ">**If** stair ascending or descending activities are related to latitude change, **then** when stair activities are performed chest gyroscope 2 will have a higher absolute mean value.\n",
    "\n",
    "If this test is shown to be statistically accurate then I could recommend that a significant increase or decrease in latitude based on gyroscope data would mean that the user is climbing or descending stairs.\n",
    "\n",
    ">**If** high temperature is related to high intensity activities **then** when intensive activities are performed mean temperature will be higher than those who are performing lower intensity activities.\n",
    "\n",
    "If this test is shown to be statistically accurate the I could recommend that increased temperature suggests the user is exercising.\n",
    "\n",
    "---\n",
    "- **Develop and testing cluster modeling**\n",
    "\n",
    "I will be creating a cluster model for my data that will create groups for the data.\n",
    "??? WRITE MORE HERE\n",
    "\n",
    "\n",
    "---\n",
    "<div class=\"alert alert-block alert-info\">\n",
    "<b>Note:</b> For the rest of the report text sections will directly refer to the code below. </div>"
   ]
  },
  {
   "cell_type": "markdown",
   "id": "35e9c9d9",
   "metadata": {},
   "source": [
    "Imports for use in the rest of our report."
   ]
  },
  {
   "cell_type": "code",
   "execution_count": 1,
   "id": "3f543000",
   "metadata": {},
   "outputs": [],
   "source": [
    "import pandas as pd\n",
    "from pandas.plotting import scatter_matrix\n",
    "import numpy as np\n",
    "import seaborn as sns\n",
    "from mpl_toolkits.mplot3d import Axes3D\n",
    "import matplotlib.pyplot as plt \n",
    "import random as rd\n",
    "from sklearn.decomposition import PCA\n",
    "from sklearn import preprocessing\n",
    "from sklearn import cluster\n",
    "from sklearn.cluster import KMeans \n",
    "from sklearn.metrics import adjusted_rand_score, silhouette_score\n",
    "from sklearn.linear_model import LogisticRegression\n",
    "from sklearn import preprocessing\n",
    "from sklearn.metrics import accuracy_score\n",
    "from sklearn.metrics import precision_score\n",
    "from sklearn.metrics import recall_score\n",
    "from sklearn.metrics import f1_score\n",
    "from sklearn.preprocessing import StandardScaler,RobustScaler\n",
    "from scipy import stats\n",
    "from collections import defaultdict\n",
    "import random\n",
    "from numpy.random import RandomState"
   ]
  },
  {
   "cell_type": "markdown",
   "id": "775b8a05",
   "metadata": {},
   "source": [
    "Reading all 14 of our files to prepare them for being combined into a dataframe."
   ]
  },
  {
   "cell_type": "code",
   "execution_count": 2,
   "id": "a8edc1b2",
   "metadata": {},
   "outputs": [],
   "source": [
    "df1 = pd.read_csv(\"subject101.dat\", header=None, delim_whitespace=True)\n",
    "df2 = pd.read_csv(\"subject101op.dat\", header=None, delim_whitespace=True)\n",
    "df3 = pd.read_csv(\"subject102.dat\", header=None, delim_whitespace=True)\n",
    "df4 = pd.read_csv(\"subject103.dat\", header=None, delim_whitespace=True)\n",
    "df5 = pd.read_csv(\"subject104.dat\", header=None, delim_whitespace=True)\n",
    "df6 = pd.read_csv(\"subject105.dat\", header=None, delim_whitespace=True)\n",
    "df7 = pd.read_csv(\"subject105op.dat\", header=None, delim_whitespace=True)\n",
    "df8 = pd.read_csv(\"subject106.dat\", header=None, delim_whitespace=True)\n",
    "df9 = pd.read_csv(\"subject106op.dat\", header=None, delim_whitespace=True)\n",
    "df10 = pd.read_csv(\"subject107.dat\", header=None, delim_whitespace=True)\n",
    "df11 = pd.read_csv(\"subject108.dat\", header=None, delim_whitespace=True)\n",
    "df12 = pd.read_csv(\"subject108op.dat\", header=None, delim_whitespace=True)\n",
    "df13 = pd.read_csv(\"subject109.dat\", header=None, delim_whitespace=True)\n",
    "df14 = pd.read_csv(\"subject109op.dat\", header=None, delim_whitespace=True)"
   ]
  },
  {
   "cell_type": "markdown",
   "id": "db93e678",
   "metadata": {},
   "source": [
    "Naming all of our columns so that it is clearer when analysing our data, this list will be used later in our data. I have also created a dictionary for the activityID's"
   ]
  },
  {
   "cell_type": "code",
   "execution_count": 3,
   "id": "e7abe51f",
   "metadata": {},
   "outputs": [],
   "source": [
    "headings = ['Timestamp', \n",
    "    'ActivityID',\n",
    "    'Heartrate',\n",
    "    'IMU_Hand_Temp',\n",
    "    'IMU_Hand_3D_acceleration_1',\n",
    "    'IMU_Hand_3D_acceleration_2', \n",
    "    'IMU_Hand_3D_acceleration_3',\n",
    "    '1','2','3',\n",
    "    'IMU_Hand_3D_gyroscope_1',\n",
    "    'IMU_Hand_3D_gyroscope_2', \n",
    "    'IMU_Hand_3D_gyroscope_3', \n",
    "    'IMU_Hand_3D_magnetometer_1',\n",
    "    'IMU_Hand_3D_magnetometer_2',\n",
    "    'IMU_Hand_3D_magnetometer_3',\n",
    "    '4','5','6','7',\n",
    "    'IMU_Chest_Temp', \n",
    "    'IMU_Chest_3D_acceleration_1',\n",
    "    'IMU_Chest_3D_acceleration_2',\n",
    "    'IMU_Chest_3D_acceleration_3',\n",
    "    '8','9','10',\n",
    "    'IMU_Chest_3D_gyroscope_1',\n",
    "    'IMU_Chest_3D_gyroscope_2',\n",
    "    'IMU_Chest_3D_gyroscope_3',\n",
    "    'IMU_Chest_3D_magnetometer_1',\n",
    "    'IMU_Chest_3D_magnetometer_2',\n",
    "    'IMU_Chest_3D_magnetometer_3',\n",
    "    '11','12','13','14',\n",
    "    'IMU_Ankle_Temp',\n",
    "    'IMU_Ankle_3D_acceleration_1',\n",
    "    'IMU_Ankle_3D_acceleration_2',\n",
    "    'IMU_Ankle_3D_acceleration_3',\n",
    "    '15','16','17',        \n",
    "    'IMU_Ankle_3D_gyroscope_1',\n",
    "    'IMU_Ankle_3D_gyroscope_2',\n",
    "    'IMU_Ankle_3D_gyroscope_3', \n",
    "    'IMU_Ankle_3D_magnetometer_1',\n",
    "    'IMU_Ankle_3D_magnetometer_2',\n",
    "    'IMU_Ankle_3D_magnetometer_3',\n",
    "    '18','19','20','21']\n",
    "\n",
    "Activities = {1:\"lying\",2:\"sitting\",3:\"standing\",4:\"walking\",5:\"running\",6:\"cycling\",7:\"Nordic walking\",\n",
    "              9:\"watching TV\",10:\"computer work\",11:\"car driving\",12:\"ascending stairs\",13:\"descending stairs\",\n",
    "              16:\"vacuum cleaning\",17:\"ironing\",18:\"folding laundry\",19:\"house cleaning\",20:\"playing soccer\",\n",
    "              24:\"rope jumping\"}"
   ]
  },
  {
   "cell_type": "markdown",
   "id": "7e0c4d45",
   "metadata": {},
   "source": [
    "Combing all our data frames into one and adding a 'subjects' column so that we can still differentiate between the subjects when necessary. \n",
    "\n",
    "Also filling in the NaN values in the heart rate column using fillna with forward fill."
   ]
  },
  {
   "cell_type": "code",
   "execution_count": 4,
   "id": "bc39cc27",
   "metadata": {},
   "outputs": [
    {
     "data": {
      "text/plain": [
       "(3850505, 55)"
      ]
     },
     "execution_count": 4,
     "metadata": {},
     "output_type": "execute_result"
    }
   ],
   "source": [
    "#list of all the data frames and list of all the subject names to be added into the new column\n",
    "mylist = [df1,df2,df3,df4,df5,df6,df7,df8,df9,df10,df11,df12,df13,df14] \n",
    "subject_names = ['101','101op','102','103','104','105','105op','106','106op','107','108','108op','109','109op']\n",
    "subjects = [] #creating an empty list of subjects that will have all of the dataframes added to it\n",
    "\n",
    "x=0\n",
    "#looping through the dataframes\n",
    "for i in mylist:  \n",
    "    i.columns=headings #adding the headings to the data frames\n",
    "    i['Heartrate'] = i['Heartrate'].fillna(method='ffill') #forward filling all NaN heartrate values\n",
    "    i['subject']=subject_names[x] #adding subject column\n",
    "    subjects.append(i) #add the dataframe to subjects list for concatenation later\n",
    "    x+=1 #increment x\n",
    "\n",
    "df = pd.concat(subjects) #combining all the data frames \n",
    "df.shape"
   ]
  },
  {
   "cell_type": "markdown",
   "id": "8a525d87",
   "metadata": {},
   "source": [
    "---\n",
    "## 2. Data Cleaning and Filtering <a name=\"cleaning\"></a>\n",
    "Firstly we are **removing any rows where the activity number is 0** as this not a specific activity and we cannot analyse it. \n",
    "\n",
    "Then we are **removing all the 6g acceleration columns** as they were not precisely calibrated so we will use the 16g acceleration data instead.\n",
    "\n",
    "We are also **removing all orientation columns** as the data was invalid.\n",
    "\n",
    "Some of the activities were optional which lead to less participants such as car driving and watching TV that only have one participant and playing soccer only has two. For that reason I will also be **removing all of the optional activities**."
   ]
  },
  {
   "cell_type": "code",
   "execution_count": 5,
   "id": "586e799f",
   "metadata": {},
   "outputs": [],
   "source": [
    "df = df[df.ActivityID != 0] #removing rows where ActivityID = 0\n",
    "df = df.drop(df.columns[[7,8,9, \n",
    "                        16,17,18,19,\n",
    "                        24,25,26,\n",
    "                        33,34,35,36,\n",
    "                        41,42,43,\n",
    "                        50,51,52,53]], axis = 1) #removing 6g acceleration data and orientation from all IMU data\n",
    "df = df[~df.subject.str.contains(\"op\")] #removing all of the optional activity dataframes"
   ]
  },
  {
   "cell_type": "markdown",
   "id": "62db875e",
   "metadata": {},
   "source": [
    "Shape before removing NaN values."
   ]
  },
  {
   "cell_type": "code",
   "execution_count": 6,
   "id": "d75a78c1",
   "metadata": {},
   "outputs": [
    {
     "data": {
      "text/plain": [
       "(1942872, 34)"
      ]
     },
     "execution_count": 6,
     "metadata": {},
     "output_type": "execute_result"
    }
   ],
   "source": [
    "df.shape"
   ]
  },
  {
   "cell_type": "code",
   "execution_count": 7,
   "id": "45cb5130",
   "metadata": {},
   "outputs": [],
   "source": [
    "df=df.dropna()"
   ]
  },
  {
   "cell_type": "markdown",
   "id": "ff139800",
   "metadata": {},
   "source": [
    "We can see we removed 21,441 NaN rows."
   ]
  },
  {
   "cell_type": "code",
   "execution_count": 8,
   "id": "175fedbf",
   "metadata": {},
   "outputs": [
    {
     "data": {
      "text/plain": [
       "(1921431, 34)"
      ]
     },
     "execution_count": 8,
     "metadata": {},
     "output_type": "execute_result"
    }
   ],
   "source": [
    "df.shape"
   ]
  },
  {
   "cell_type": "markdown",
   "id": "5d943ef9",
   "metadata": {},
   "source": [
    "Using the activity dictionary to create a new column \"Activity\" that has the activity names."
   ]
  },
  {
   "cell_type": "code",
   "execution_count": 9,
   "id": "ae1e8a42",
   "metadata": {},
   "outputs": [],
   "source": [
    "df['Activity'] = df['ActivityID'].map(Activities)"
   ]
  },
  {
   "cell_type": "markdown",
   "id": "23e9bb53",
   "metadata": {},
   "source": [
    "If you scroll to the far right you can now see the 'Activity' column which will make all of our analysis a lot clearer and easier to read as we will not have to check which activity the activityID would be refering to."
   ]
  },
  {
   "cell_type": "code",
   "execution_count": 10,
   "id": "d5d53d27",
   "metadata": {},
   "outputs": [
    {
     "data": {
      "text/html": [
       "<div>\n",
       "<style scoped>\n",
       "    .dataframe tbody tr th:only-of-type {\n",
       "        vertical-align: middle;\n",
       "    }\n",
       "\n",
       "    .dataframe tbody tr th {\n",
       "        vertical-align: top;\n",
       "    }\n",
       "\n",
       "    .dataframe thead th {\n",
       "        text-align: right;\n",
       "    }\n",
       "</style>\n",
       "<table border=\"1\" class=\"dataframe\">\n",
       "  <thead>\n",
       "    <tr style=\"text-align: right;\">\n",
       "      <th></th>\n",
       "      <th>Timestamp</th>\n",
       "      <th>ActivityID</th>\n",
       "      <th>Heartrate</th>\n",
       "      <th>IMU_Hand_Temp</th>\n",
       "      <th>IMU_Hand_3D_acceleration_1</th>\n",
       "      <th>IMU_Hand_3D_acceleration_2</th>\n",
       "      <th>IMU_Hand_3D_acceleration_3</th>\n",
       "      <th>IMU_Hand_3D_gyroscope_1</th>\n",
       "      <th>IMU_Hand_3D_gyroscope_2</th>\n",
       "      <th>IMU_Hand_3D_gyroscope_3</th>\n",
       "      <th>...</th>\n",
       "      <th>IMU_Ankle_3D_acceleration_2</th>\n",
       "      <th>IMU_Ankle_3D_acceleration_3</th>\n",
       "      <th>IMU_Ankle_3D_gyroscope_1</th>\n",
       "      <th>IMU_Ankle_3D_gyroscope_2</th>\n",
       "      <th>IMU_Ankle_3D_gyroscope_3</th>\n",
       "      <th>IMU_Ankle_3D_magnetometer_1</th>\n",
       "      <th>IMU_Ankle_3D_magnetometer_2</th>\n",
       "      <th>IMU_Ankle_3D_magnetometer_3</th>\n",
       "      <th>subject</th>\n",
       "      <th>Activity</th>\n",
       "    </tr>\n",
       "  </thead>\n",
       "  <tbody>\n",
       "    <tr>\n",
       "      <th>2928</th>\n",
       "      <td>37.66</td>\n",
       "      <td>1</td>\n",
       "      <td>100.0</td>\n",
       "      <td>30.375</td>\n",
       "      <td>2.21530</td>\n",
       "      <td>8.27915</td>\n",
       "      <td>5.58753</td>\n",
       "      <td>-0.004750</td>\n",
       "      <td>0.037579</td>\n",
       "      <td>-0.011145</td>\n",
       "      <td>...</td>\n",
       "      <td>-1.84761</td>\n",
       "      <td>0.095156</td>\n",
       "      <td>0.002908</td>\n",
       "      <td>-0.027714</td>\n",
       "      <td>0.001752</td>\n",
       "      <td>-61.1081</td>\n",
       "      <td>-36.8636</td>\n",
       "      <td>-58.3696</td>\n",
       "      <td>101</td>\n",
       "      <td>lying</td>\n",
       "    </tr>\n",
       "    <tr>\n",
       "      <th>2929</th>\n",
       "      <td>37.67</td>\n",
       "      <td>1</td>\n",
       "      <td>100.0</td>\n",
       "      <td>30.375</td>\n",
       "      <td>2.29196</td>\n",
       "      <td>7.67288</td>\n",
       "      <td>5.74467</td>\n",
       "      <td>-0.171710</td>\n",
       "      <td>0.025479</td>\n",
       "      <td>-0.009538</td>\n",
       "      <td>...</td>\n",
       "      <td>-1.88438</td>\n",
       "      <td>-0.020804</td>\n",
       "      <td>0.020882</td>\n",
       "      <td>0.000945</td>\n",
       "      <td>0.006007</td>\n",
       "      <td>-60.8916</td>\n",
       "      <td>-36.3197</td>\n",
       "      <td>-58.3656</td>\n",
       "      <td>101</td>\n",
       "      <td>lying</td>\n",
       "    </tr>\n",
       "    <tr>\n",
       "      <th>2930</th>\n",
       "      <td>37.68</td>\n",
       "      <td>1</td>\n",
       "      <td>100.0</td>\n",
       "      <td>30.375</td>\n",
       "      <td>2.29090</td>\n",
       "      <td>7.14240</td>\n",
       "      <td>5.82342</td>\n",
       "      <td>-0.238241</td>\n",
       "      <td>0.011214</td>\n",
       "      <td>0.000831</td>\n",
       "      <td>...</td>\n",
       "      <td>-1.92203</td>\n",
       "      <td>-0.059173</td>\n",
       "      <td>-0.035392</td>\n",
       "      <td>-0.052422</td>\n",
       "      <td>-0.004882</td>\n",
       "      <td>-60.3407</td>\n",
       "      <td>-35.7842</td>\n",
       "      <td>-58.6119</td>\n",
       "      <td>101</td>\n",
       "      <td>lying</td>\n",
       "    </tr>\n",
       "    <tr>\n",
       "      <th>2931</th>\n",
       "      <td>37.69</td>\n",
       "      <td>1</td>\n",
       "      <td>100.0</td>\n",
       "      <td>30.375</td>\n",
       "      <td>2.21800</td>\n",
       "      <td>7.14365</td>\n",
       "      <td>5.89930</td>\n",
       "      <td>-0.192912</td>\n",
       "      <td>0.019053</td>\n",
       "      <td>0.013374</td>\n",
       "      <td>...</td>\n",
       "      <td>-1.84714</td>\n",
       "      <td>0.094385</td>\n",
       "      <td>-0.032514</td>\n",
       "      <td>-0.018844</td>\n",
       "      <td>0.026950</td>\n",
       "      <td>-60.7646</td>\n",
       "      <td>-37.1028</td>\n",
       "      <td>-57.8799</td>\n",
       "      <td>101</td>\n",
       "      <td>lying</td>\n",
       "    </tr>\n",
       "    <tr>\n",
       "      <th>2932</th>\n",
       "      <td>37.70</td>\n",
       "      <td>1</td>\n",
       "      <td>100.0</td>\n",
       "      <td>30.375</td>\n",
       "      <td>2.30106</td>\n",
       "      <td>7.25857</td>\n",
       "      <td>6.09259</td>\n",
       "      <td>-0.069961</td>\n",
       "      <td>-0.018328</td>\n",
       "      <td>0.004582</td>\n",
       "      <td>...</td>\n",
       "      <td>-1.88582</td>\n",
       "      <td>0.095775</td>\n",
       "      <td>0.001351</td>\n",
       "      <td>-0.048878</td>\n",
       "      <td>-0.006328</td>\n",
       "      <td>-60.2040</td>\n",
       "      <td>-37.1225</td>\n",
       "      <td>-57.8847</td>\n",
       "      <td>101</td>\n",
       "      <td>lying</td>\n",
       "    </tr>\n",
       "  </tbody>\n",
       "</table>\n",
       "<p>5 rows × 35 columns</p>\n",
       "</div>"
      ],
      "text/plain": [
       "      Timestamp  ActivityID  Heartrate  IMU_Hand_Temp  \\\n",
       "2928      37.66           1      100.0         30.375   \n",
       "2929      37.67           1      100.0         30.375   \n",
       "2930      37.68           1      100.0         30.375   \n",
       "2931      37.69           1      100.0         30.375   \n",
       "2932      37.70           1      100.0         30.375   \n",
       "\n",
       "      IMU_Hand_3D_acceleration_1  IMU_Hand_3D_acceleration_2  \\\n",
       "2928                     2.21530                     8.27915   \n",
       "2929                     2.29196                     7.67288   \n",
       "2930                     2.29090                     7.14240   \n",
       "2931                     2.21800                     7.14365   \n",
       "2932                     2.30106                     7.25857   \n",
       "\n",
       "      IMU_Hand_3D_acceleration_3  IMU_Hand_3D_gyroscope_1  \\\n",
       "2928                     5.58753                -0.004750   \n",
       "2929                     5.74467                -0.171710   \n",
       "2930                     5.82342                -0.238241   \n",
       "2931                     5.89930                -0.192912   \n",
       "2932                     6.09259                -0.069961   \n",
       "\n",
       "      IMU_Hand_3D_gyroscope_2  IMU_Hand_3D_gyroscope_3  ...  \\\n",
       "2928                 0.037579                -0.011145  ...   \n",
       "2929                 0.025479                -0.009538  ...   \n",
       "2930                 0.011214                 0.000831  ...   \n",
       "2931                 0.019053                 0.013374  ...   \n",
       "2932                -0.018328                 0.004582  ...   \n",
       "\n",
       "      IMU_Ankle_3D_acceleration_2  IMU_Ankle_3D_acceleration_3  \\\n",
       "2928                     -1.84761                     0.095156   \n",
       "2929                     -1.88438                    -0.020804   \n",
       "2930                     -1.92203                    -0.059173   \n",
       "2931                     -1.84714                     0.094385   \n",
       "2932                     -1.88582                     0.095775   \n",
       "\n",
       "      IMU_Ankle_3D_gyroscope_1  IMU_Ankle_3D_gyroscope_2  \\\n",
       "2928                  0.002908                 -0.027714   \n",
       "2929                  0.020882                  0.000945   \n",
       "2930                 -0.035392                 -0.052422   \n",
       "2931                 -0.032514                 -0.018844   \n",
       "2932                  0.001351                 -0.048878   \n",
       "\n",
       "      IMU_Ankle_3D_gyroscope_3  IMU_Ankle_3D_magnetometer_1  \\\n",
       "2928                  0.001752                     -61.1081   \n",
       "2929                  0.006007                     -60.8916   \n",
       "2930                 -0.004882                     -60.3407   \n",
       "2931                  0.026950                     -60.7646   \n",
       "2932                 -0.006328                     -60.2040   \n",
       "\n",
       "      IMU_Ankle_3D_magnetometer_2  IMU_Ankle_3D_magnetometer_3  subject  \\\n",
       "2928                     -36.8636                     -58.3696      101   \n",
       "2929                     -36.3197                     -58.3656      101   \n",
       "2930                     -35.7842                     -58.6119      101   \n",
       "2931                     -37.1028                     -57.8799      101   \n",
       "2932                     -37.1225                     -57.8847      101   \n",
       "\n",
       "      Activity  \n",
       "2928     lying  \n",
       "2929     lying  \n",
       "2930     lying  \n",
       "2931     lying  \n",
       "2932     lying  \n",
       "\n",
       "[5 rows x 35 columns]"
      ]
     },
     "execution_count": 10,
     "metadata": {},
     "output_type": "execute_result"
    }
   ],
   "source": [
    "df.head()"
   ]
  },
  {
   "cell_type": "markdown",
   "id": "80757c63",
   "metadata": {},
   "source": [
    "---\n",
    "## 3. Downsampling <a name=\"downsampling\"></a>"
   ]
  },
  {
   "cell_type": "markdown",
   "id": "348870bd",
   "metadata": {},
   "source": [
    "Our data cycle is currently measured every 10 milliseconds or every 0.01 seconds. This means our data has a frequency of 100Hz. We currently have nearly 2 million data points in our data frame which can make analysis very slow so downsampling will speed up this process. We will round our time stamp data to every 100 milliseconds of every 0.1 seconds, which will mean our data will have a frequency of 10Hz which is much more manageable - we will also take the average of all of the data points within that 0.1 seconds so we are still maintainging the data as much as possible."
   ]
  },
  {
   "cell_type": "code",
   "execution_count": 11,
   "id": "f20bc83a",
   "metadata": {},
   "outputs": [
    {
     "data": {
      "text/html": [
       "<div>\n",
       "<style scoped>\n",
       "    .dataframe tbody tr th:only-of-type {\n",
       "        vertical-align: middle;\n",
       "    }\n",
       "\n",
       "    .dataframe tbody tr th {\n",
       "        vertical-align: top;\n",
       "    }\n",
       "\n",
       "    .dataframe thead th {\n",
       "        text-align: right;\n",
       "    }\n",
       "</style>\n",
       "<table border=\"1\" class=\"dataframe\">\n",
       "  <thead>\n",
       "    <tr style=\"text-align: right;\">\n",
       "      <th></th>\n",
       "      <th>Timestamp</th>\n",
       "      <th>ActivityID</th>\n",
       "      <th>Heartrate</th>\n",
       "      <th>IMU_Hand_Temp</th>\n",
       "      <th>IMU_Hand_3D_acceleration_1</th>\n",
       "      <th>IMU_Hand_3D_acceleration_2</th>\n",
       "      <th>IMU_Hand_3D_acceleration_3</th>\n",
       "      <th>IMU_Hand_3D_gyroscope_1</th>\n",
       "      <th>IMU_Hand_3D_gyroscope_2</th>\n",
       "      <th>IMU_Hand_3D_gyroscope_3</th>\n",
       "      <th>...</th>\n",
       "      <th>IMU_Ankle_3D_acceleration_2</th>\n",
       "      <th>IMU_Ankle_3D_acceleration_3</th>\n",
       "      <th>IMU_Ankle_3D_gyroscope_1</th>\n",
       "      <th>IMU_Ankle_3D_gyroscope_2</th>\n",
       "      <th>IMU_Ankle_3D_gyroscope_3</th>\n",
       "      <th>IMU_Ankle_3D_magnetometer_1</th>\n",
       "      <th>IMU_Ankle_3D_magnetometer_2</th>\n",
       "      <th>IMU_Ankle_3D_magnetometer_3</th>\n",
       "      <th>subject</th>\n",
       "      <th>Activity</th>\n",
       "    </tr>\n",
       "  </thead>\n",
       "  <tbody>\n",
       "    <tr>\n",
       "      <th>2928</th>\n",
       "      <td>37.66</td>\n",
       "      <td>1</td>\n",
       "      <td>100.0</td>\n",
       "      <td>30.375</td>\n",
       "      <td>2.21530</td>\n",
       "      <td>8.27915</td>\n",
       "      <td>5.58753</td>\n",
       "      <td>-0.004750</td>\n",
       "      <td>0.037579</td>\n",
       "      <td>-0.011145</td>\n",
       "      <td>...</td>\n",
       "      <td>-1.84761</td>\n",
       "      <td>0.095156</td>\n",
       "      <td>0.002908</td>\n",
       "      <td>-0.027714</td>\n",
       "      <td>0.001752</td>\n",
       "      <td>-61.1081</td>\n",
       "      <td>-36.8636</td>\n",
       "      <td>-58.3696</td>\n",
       "      <td>101</td>\n",
       "      <td>lying</td>\n",
       "    </tr>\n",
       "    <tr>\n",
       "      <th>2929</th>\n",
       "      <td>37.67</td>\n",
       "      <td>1</td>\n",
       "      <td>100.0</td>\n",
       "      <td>30.375</td>\n",
       "      <td>2.29196</td>\n",
       "      <td>7.67288</td>\n",
       "      <td>5.74467</td>\n",
       "      <td>-0.171710</td>\n",
       "      <td>0.025479</td>\n",
       "      <td>-0.009538</td>\n",
       "      <td>...</td>\n",
       "      <td>-1.88438</td>\n",
       "      <td>-0.020804</td>\n",
       "      <td>0.020882</td>\n",
       "      <td>0.000945</td>\n",
       "      <td>0.006007</td>\n",
       "      <td>-60.8916</td>\n",
       "      <td>-36.3197</td>\n",
       "      <td>-58.3656</td>\n",
       "      <td>101</td>\n",
       "      <td>lying</td>\n",
       "    </tr>\n",
       "    <tr>\n",
       "      <th>2930</th>\n",
       "      <td>37.68</td>\n",
       "      <td>1</td>\n",
       "      <td>100.0</td>\n",
       "      <td>30.375</td>\n",
       "      <td>2.29090</td>\n",
       "      <td>7.14240</td>\n",
       "      <td>5.82342</td>\n",
       "      <td>-0.238241</td>\n",
       "      <td>0.011214</td>\n",
       "      <td>0.000831</td>\n",
       "      <td>...</td>\n",
       "      <td>-1.92203</td>\n",
       "      <td>-0.059173</td>\n",
       "      <td>-0.035392</td>\n",
       "      <td>-0.052422</td>\n",
       "      <td>-0.004882</td>\n",
       "      <td>-60.3407</td>\n",
       "      <td>-35.7842</td>\n",
       "      <td>-58.6119</td>\n",
       "      <td>101</td>\n",
       "      <td>lying</td>\n",
       "    </tr>\n",
       "    <tr>\n",
       "      <th>2931</th>\n",
       "      <td>37.69</td>\n",
       "      <td>1</td>\n",
       "      <td>100.0</td>\n",
       "      <td>30.375</td>\n",
       "      <td>2.21800</td>\n",
       "      <td>7.14365</td>\n",
       "      <td>5.89930</td>\n",
       "      <td>-0.192912</td>\n",
       "      <td>0.019053</td>\n",
       "      <td>0.013374</td>\n",
       "      <td>...</td>\n",
       "      <td>-1.84714</td>\n",
       "      <td>0.094385</td>\n",
       "      <td>-0.032514</td>\n",
       "      <td>-0.018844</td>\n",
       "      <td>0.026950</td>\n",
       "      <td>-60.7646</td>\n",
       "      <td>-37.1028</td>\n",
       "      <td>-57.8799</td>\n",
       "      <td>101</td>\n",
       "      <td>lying</td>\n",
       "    </tr>\n",
       "    <tr>\n",
       "      <th>2932</th>\n",
       "      <td>37.70</td>\n",
       "      <td>1</td>\n",
       "      <td>100.0</td>\n",
       "      <td>30.375</td>\n",
       "      <td>2.30106</td>\n",
       "      <td>7.25857</td>\n",
       "      <td>6.09259</td>\n",
       "      <td>-0.069961</td>\n",
       "      <td>-0.018328</td>\n",
       "      <td>0.004582</td>\n",
       "      <td>...</td>\n",
       "      <td>-1.88582</td>\n",
       "      <td>0.095775</td>\n",
       "      <td>0.001351</td>\n",
       "      <td>-0.048878</td>\n",
       "      <td>-0.006328</td>\n",
       "      <td>-60.2040</td>\n",
       "      <td>-37.1225</td>\n",
       "      <td>-57.8847</td>\n",
       "      <td>101</td>\n",
       "      <td>lying</td>\n",
       "    </tr>\n",
       "  </tbody>\n",
       "</table>\n",
       "<p>5 rows × 35 columns</p>\n",
       "</div>"
      ],
      "text/plain": [
       "      Timestamp  ActivityID  Heartrate  IMU_Hand_Temp  \\\n",
       "2928      37.66           1      100.0         30.375   \n",
       "2929      37.67           1      100.0         30.375   \n",
       "2930      37.68           1      100.0         30.375   \n",
       "2931      37.69           1      100.0         30.375   \n",
       "2932      37.70           1      100.0         30.375   \n",
       "\n",
       "      IMU_Hand_3D_acceleration_1  IMU_Hand_3D_acceleration_2  \\\n",
       "2928                     2.21530                     8.27915   \n",
       "2929                     2.29196                     7.67288   \n",
       "2930                     2.29090                     7.14240   \n",
       "2931                     2.21800                     7.14365   \n",
       "2932                     2.30106                     7.25857   \n",
       "\n",
       "      IMU_Hand_3D_acceleration_3  IMU_Hand_3D_gyroscope_1  \\\n",
       "2928                     5.58753                -0.004750   \n",
       "2929                     5.74467                -0.171710   \n",
       "2930                     5.82342                -0.238241   \n",
       "2931                     5.89930                -0.192912   \n",
       "2932                     6.09259                -0.069961   \n",
       "\n",
       "      IMU_Hand_3D_gyroscope_2  IMU_Hand_3D_gyroscope_3  ...  \\\n",
       "2928                 0.037579                -0.011145  ...   \n",
       "2929                 0.025479                -0.009538  ...   \n",
       "2930                 0.011214                 0.000831  ...   \n",
       "2931                 0.019053                 0.013374  ...   \n",
       "2932                -0.018328                 0.004582  ...   \n",
       "\n",
       "      IMU_Ankle_3D_acceleration_2  IMU_Ankle_3D_acceleration_3  \\\n",
       "2928                     -1.84761                     0.095156   \n",
       "2929                     -1.88438                    -0.020804   \n",
       "2930                     -1.92203                    -0.059173   \n",
       "2931                     -1.84714                     0.094385   \n",
       "2932                     -1.88582                     0.095775   \n",
       "\n",
       "      IMU_Ankle_3D_gyroscope_1  IMU_Ankle_3D_gyroscope_2  \\\n",
       "2928                  0.002908                 -0.027714   \n",
       "2929                  0.020882                  0.000945   \n",
       "2930                 -0.035392                 -0.052422   \n",
       "2931                 -0.032514                 -0.018844   \n",
       "2932                  0.001351                 -0.048878   \n",
       "\n",
       "      IMU_Ankle_3D_gyroscope_3  IMU_Ankle_3D_magnetometer_1  \\\n",
       "2928                  0.001752                     -61.1081   \n",
       "2929                  0.006007                     -60.8916   \n",
       "2930                 -0.004882                     -60.3407   \n",
       "2931                  0.026950                     -60.7646   \n",
       "2932                 -0.006328                     -60.2040   \n",
       "\n",
       "      IMU_Ankle_3D_magnetometer_2  IMU_Ankle_3D_magnetometer_3  subject  \\\n",
       "2928                     -36.8636                     -58.3696      101   \n",
       "2929                     -36.3197                     -58.3656      101   \n",
       "2930                     -35.7842                     -58.6119      101   \n",
       "2931                     -37.1028                     -57.8799      101   \n",
       "2932                     -37.1225                     -57.8847      101   \n",
       "\n",
       "      Activity  \n",
       "2928     lying  \n",
       "2929     lying  \n",
       "2930     lying  \n",
       "2931     lying  \n",
       "2932     lying  \n",
       "\n",
       "[5 rows x 35 columns]"
      ]
     },
     "execution_count": 11,
     "metadata": {},
     "output_type": "execute_result"
    }
   ],
   "source": [
    "df.head()"
   ]
  },
  {
   "cell_type": "markdown",
   "id": "0bf2d6d5",
   "metadata": {},
   "source": [
    "We need to group by the new 'DStime' but also by 'subject' and 'Activity' as otherwise it would combine time stamps from other subjects together. When we groupby we are using the mean() function so that it will average out all of our other variables in our data."
   ]
  },
  {
   "cell_type": "code",
   "execution_count": 12,
   "id": "d3556d62",
   "metadata": {},
   "outputs": [],
   "source": [
    "df['DStime'] = df.Timestamp.round(1) #round timestamp column to 1 decimal place\n",
    "df=df.groupby(['DStime','subject','Activity'], as_index=False).mean() #grouping by DStime, subject and Activity"
   ]
  },
  {
   "cell_type": "markdown",
   "id": "7422fa9f",
   "metadata": {},
   "source": [
    "We now have just under 200,000 data points which should still give us a great amount of accuracy but will decrease our run times, especially for cluster analysis."
   ]
  },
  {
   "cell_type": "code",
   "execution_count": 13,
   "id": "21553ec0",
   "metadata": {},
   "outputs": [],
   "source": [
    "df['ActivityID'] = df['ActivityID'].astype(int) #removing the .0 added on from the rounding"
   ]
  },
  {
   "cell_type": "code",
   "execution_count": 14,
   "id": "c099bda2",
   "metadata": {},
   "outputs": [
    {
     "data": {
      "text/plain": [
       "(194335, 36)"
      ]
     },
     "execution_count": 14,
     "metadata": {},
     "output_type": "execute_result"
    }
   ],
   "source": [
    "df.shape"
   ]
  },
  {
   "cell_type": "code",
   "execution_count": 15,
   "id": "f00ef1b1",
   "metadata": {},
   "outputs": [
    {
     "data": {
      "text/html": [
       "<div>\n",
       "<style scoped>\n",
       "    .dataframe tbody tr th:only-of-type {\n",
       "        vertical-align: middle;\n",
       "    }\n",
       "\n",
       "    .dataframe tbody tr th {\n",
       "        vertical-align: top;\n",
       "    }\n",
       "\n",
       "    .dataframe thead th {\n",
       "        text-align: right;\n",
       "    }\n",
       "</style>\n",
       "<table border=\"1\" class=\"dataframe\">\n",
       "  <thead>\n",
       "    <tr style=\"text-align: right;\">\n",
       "      <th></th>\n",
       "      <th>DStime</th>\n",
       "      <th>subject</th>\n",
       "      <th>Activity</th>\n",
       "      <th>Timestamp</th>\n",
       "      <th>ActivityID</th>\n",
       "      <th>Heartrate</th>\n",
       "      <th>IMU_Hand_Temp</th>\n",
       "      <th>IMU_Hand_3D_acceleration_1</th>\n",
       "      <th>IMU_Hand_3D_acceleration_2</th>\n",
       "      <th>IMU_Hand_3D_acceleration_3</th>\n",
       "      <th>...</th>\n",
       "      <th>IMU_Ankle_Temp</th>\n",
       "      <th>IMU_Ankle_3D_acceleration_1</th>\n",
       "      <th>IMU_Ankle_3D_acceleration_2</th>\n",
       "      <th>IMU_Ankle_3D_acceleration_3</th>\n",
       "      <th>IMU_Ankle_3D_gyroscope_1</th>\n",
       "      <th>IMU_Ankle_3D_gyroscope_2</th>\n",
       "      <th>IMU_Ankle_3D_gyroscope_3</th>\n",
       "      <th>IMU_Ankle_3D_magnetometer_1</th>\n",
       "      <th>IMU_Ankle_3D_magnetometer_2</th>\n",
       "      <th>IMU_Ankle_3D_magnetometer_3</th>\n",
       "    </tr>\n",
       "  </thead>\n",
       "  <tbody>\n",
       "    <tr>\n",
       "      <th>0</th>\n",
       "      <td>31.2</td>\n",
       "      <td>109</td>\n",
       "      <td>rope jumping</td>\n",
       "      <td>31.225</td>\n",
       "      <td>24</td>\n",
       "      <td>139.0</td>\n",
       "      <td>24.875000</td>\n",
       "      <td>-9.063530</td>\n",
       "      <td>3.647015</td>\n",
       "      <td>1.707348</td>\n",
       "      <td>...</td>\n",
       "      <td>31.3125</td>\n",
       "      <td>5.701503</td>\n",
       "      <td>-1.033419</td>\n",
       "      <td>-2.761903</td>\n",
       "      <td>-0.040953</td>\n",
       "      <td>0.020846</td>\n",
       "      <td>0.438237</td>\n",
       "      <td>-41.996317</td>\n",
       "      <td>-15.532933</td>\n",
       "      <td>4.753453</td>\n",
       "    </tr>\n",
       "    <tr>\n",
       "      <th>1</th>\n",
       "      <td>31.3</td>\n",
       "      <td>109</td>\n",
       "      <td>rope jumping</td>\n",
       "      <td>31.300</td>\n",
       "      <td>24</td>\n",
       "      <td>139.0</td>\n",
       "      <td>24.875000</td>\n",
       "      <td>-7.688702</td>\n",
       "      <td>3.062061</td>\n",
       "      <td>2.322193</td>\n",
       "      <td>...</td>\n",
       "      <td>31.3125</td>\n",
       "      <td>8.703349</td>\n",
       "      <td>-0.863011</td>\n",
       "      <td>-2.421318</td>\n",
       "      <td>1.014848</td>\n",
       "      <td>0.274131</td>\n",
       "      <td>1.586576</td>\n",
       "      <td>-43.457756</td>\n",
       "      <td>-11.848357</td>\n",
       "      <td>4.641602</td>\n",
       "    </tr>\n",
       "    <tr>\n",
       "      <th>2</th>\n",
       "      <td>31.4</td>\n",
       "      <td>109</td>\n",
       "      <td>rope jumping</td>\n",
       "      <td>31.400</td>\n",
       "      <td>24</td>\n",
       "      <td>139.0</td>\n",
       "      <td>24.875000</td>\n",
       "      <td>-8.074721</td>\n",
       "      <td>2.548240</td>\n",
       "      <td>2.937051</td>\n",
       "      <td>...</td>\n",
       "      <td>31.3125</td>\n",
       "      <td>11.980173</td>\n",
       "      <td>2.083461</td>\n",
       "      <td>-2.432118</td>\n",
       "      <td>-0.605898</td>\n",
       "      <td>0.272718</td>\n",
       "      <td>0.748527</td>\n",
       "      <td>-45.028336</td>\n",
       "      <td>-6.639915</td>\n",
       "      <td>3.694515</td>\n",
       "    </tr>\n",
       "    <tr>\n",
       "      <th>3</th>\n",
       "      <td>31.5</td>\n",
       "      <td>109</td>\n",
       "      <td>rope jumping</td>\n",
       "      <td>31.500</td>\n",
       "      <td>24</td>\n",
       "      <td>139.0</td>\n",
       "      <td>24.881944</td>\n",
       "      <td>-9.123870</td>\n",
       "      <td>1.337881</td>\n",
       "      <td>3.893047</td>\n",
       "      <td>...</td>\n",
       "      <td>31.3125</td>\n",
       "      <td>9.286288</td>\n",
       "      <td>-1.233983</td>\n",
       "      <td>-2.901838</td>\n",
       "      <td>-0.199494</td>\n",
       "      <td>0.003213</td>\n",
       "      <td>0.043435</td>\n",
       "      <td>-45.200356</td>\n",
       "      <td>-4.915288</td>\n",
       "      <td>2.626022</td>\n",
       "    </tr>\n",
       "    <tr>\n",
       "      <th>4</th>\n",
       "      <td>31.6</td>\n",
       "      <td>109</td>\n",
       "      <td>rope jumping</td>\n",
       "      <td>31.600</td>\n",
       "      <td>24</td>\n",
       "      <td>139.0</td>\n",
       "      <td>24.937500</td>\n",
       "      <td>-9.360793</td>\n",
       "      <td>3.157591</td>\n",
       "      <td>2.065512</td>\n",
       "      <td>...</td>\n",
       "      <td>31.3125</td>\n",
       "      <td>9.604828</td>\n",
       "      <td>-0.954374</td>\n",
       "      <td>-2.255197</td>\n",
       "      <td>0.099069</td>\n",
       "      <td>-0.013987</td>\n",
       "      <td>-0.053509</td>\n",
       "      <td>-45.073918</td>\n",
       "      <td>-5.025527</td>\n",
       "      <td>2.660976</td>\n",
       "    </tr>\n",
       "  </tbody>\n",
       "</table>\n",
       "<p>5 rows × 36 columns</p>\n",
       "</div>"
      ],
      "text/plain": [
       "   DStime subject      Activity  Timestamp  ActivityID  Heartrate  \\\n",
       "0    31.2     109  rope jumping     31.225          24      139.0   \n",
       "1    31.3     109  rope jumping     31.300          24      139.0   \n",
       "2    31.4     109  rope jumping     31.400          24      139.0   \n",
       "3    31.5     109  rope jumping     31.500          24      139.0   \n",
       "4    31.6     109  rope jumping     31.600          24      139.0   \n",
       "\n",
       "   IMU_Hand_Temp  IMU_Hand_3D_acceleration_1  IMU_Hand_3D_acceleration_2  \\\n",
       "0      24.875000                   -9.063530                    3.647015   \n",
       "1      24.875000                   -7.688702                    3.062061   \n",
       "2      24.875000                   -8.074721                    2.548240   \n",
       "3      24.881944                   -9.123870                    1.337881   \n",
       "4      24.937500                   -9.360793                    3.157591   \n",
       "\n",
       "   IMU_Hand_3D_acceleration_3  ...  IMU_Ankle_Temp  \\\n",
       "0                    1.707348  ...         31.3125   \n",
       "1                    2.322193  ...         31.3125   \n",
       "2                    2.937051  ...         31.3125   \n",
       "3                    3.893047  ...         31.3125   \n",
       "4                    2.065512  ...         31.3125   \n",
       "\n",
       "   IMU_Ankle_3D_acceleration_1  IMU_Ankle_3D_acceleration_2  \\\n",
       "0                     5.701503                    -1.033419   \n",
       "1                     8.703349                    -0.863011   \n",
       "2                    11.980173                     2.083461   \n",
       "3                     9.286288                    -1.233983   \n",
       "4                     9.604828                    -0.954374   \n",
       "\n",
       "   IMU_Ankle_3D_acceleration_3  IMU_Ankle_3D_gyroscope_1  \\\n",
       "0                    -2.761903                 -0.040953   \n",
       "1                    -2.421318                  1.014848   \n",
       "2                    -2.432118                 -0.605898   \n",
       "3                    -2.901838                 -0.199494   \n",
       "4                    -2.255197                  0.099069   \n",
       "\n",
       "   IMU_Ankle_3D_gyroscope_2  IMU_Ankle_3D_gyroscope_3  \\\n",
       "0                  0.020846                  0.438237   \n",
       "1                  0.274131                  1.586576   \n",
       "2                  0.272718                  0.748527   \n",
       "3                  0.003213                  0.043435   \n",
       "4                 -0.013987                 -0.053509   \n",
       "\n",
       "   IMU_Ankle_3D_magnetometer_1  IMU_Ankle_3D_magnetometer_2  \\\n",
       "0                   -41.996317                   -15.532933   \n",
       "1                   -43.457756                   -11.848357   \n",
       "2                   -45.028336                    -6.639915   \n",
       "3                   -45.200356                    -4.915288   \n",
       "4                   -45.073918                    -5.025527   \n",
       "\n",
       "   IMU_Ankle_3D_magnetometer_3  \n",
       "0                     4.753453  \n",
       "1                     4.641602  \n",
       "2                     3.694515  \n",
       "3                     2.626022  \n",
       "4                     2.660976  \n",
       "\n",
       "[5 rows x 36 columns]"
      ]
     },
     "execution_count": 15,
     "metadata": {},
     "output_type": "execute_result"
    }
   ],
   "source": [
    "df.head()"
   ]
  },
  {
   "cell_type": "markdown",
   "id": "22d8bcb1",
   "metadata": {},
   "source": [
    "---\n",
    "## 4. Development and Test Set <a name=\"devandtest\"></a>\n"
   ]
  },
  {
   "cell_type": "markdown",
   "id": "0eb75ba3",
   "metadata": {},
   "source": [
    "\n",
    "We need to create two random sets; a development set and a test set. We do this to **prevent p-hacking**, which is a way to manipulate the data by running enough tests that eventually you will get a desired result. So by having my preliminary investigations on only half of my data, I can prevent this. I have also set a random seed so that if I ever run the function again it will start at the same point so I can maintain the same dev and test set. I have made it so that 80% of my data is in the development set and 20% in my test set."
   ]
  },
  {
   "cell_type": "code",
   "execution_count": 16,
   "id": "a07ae02e",
   "metadata": {},
   "outputs": [
    {
     "data": {
      "text/html": [
       "<div>\n",
       "<style scoped>\n",
       "    .dataframe tbody tr th:only-of-type {\n",
       "        vertical-align: middle;\n",
       "    }\n",
       "\n",
       "    .dataframe tbody tr th {\n",
       "        vertical-align: top;\n",
       "    }\n",
       "\n",
       "    .dataframe thead th {\n",
       "        text-align: right;\n",
       "    }\n",
       "</style>\n",
       "<table border=\"1\" class=\"dataframe\">\n",
       "  <thead>\n",
       "    <tr style=\"text-align: right;\">\n",
       "      <th></th>\n",
       "      <th>DStime</th>\n",
       "      <th>subject</th>\n",
       "      <th>Activity</th>\n",
       "      <th>Timestamp</th>\n",
       "      <th>ActivityID</th>\n",
       "      <th>Heartrate</th>\n",
       "      <th>IMU_Hand_Temp</th>\n",
       "      <th>IMU_Hand_3D_acceleration_1</th>\n",
       "      <th>IMU_Hand_3D_acceleration_2</th>\n",
       "      <th>IMU_Hand_3D_acceleration_3</th>\n",
       "      <th>...</th>\n",
       "      <th>IMU_Ankle_Temp</th>\n",
       "      <th>IMU_Ankle_3D_acceleration_1</th>\n",
       "      <th>IMU_Ankle_3D_acceleration_2</th>\n",
       "      <th>IMU_Ankle_3D_acceleration_3</th>\n",
       "      <th>IMU_Ankle_3D_gyroscope_1</th>\n",
       "      <th>IMU_Ankle_3D_gyroscope_2</th>\n",
       "      <th>IMU_Ankle_3D_gyroscope_3</th>\n",
       "      <th>IMU_Ankle_3D_magnetometer_1</th>\n",
       "      <th>IMU_Ankle_3D_magnetometer_2</th>\n",
       "      <th>IMU_Ankle_3D_magnetometer_3</th>\n",
       "    </tr>\n",
       "  </thead>\n",
       "  <tbody>\n",
       "    <tr>\n",
       "      <th>25199</th>\n",
       "      <td>445.2</td>\n",
       "      <td>107</td>\n",
       "      <td>sitting</td>\n",
       "      <td>445.2</td>\n",
       "      <td>2</td>\n",
       "      <td>65.0</td>\n",
       "      <td>31.6875</td>\n",
       "      <td>-1.893938</td>\n",
       "      <td>6.389924</td>\n",
       "      <td>7.096335</td>\n",
       "      <td>...</td>\n",
       "      <td>31.3750</td>\n",
       "      <td>9.243365</td>\n",
       "      <td>-1.292796</td>\n",
       "      <td>-3.653045</td>\n",
       "      <td>0.012949</td>\n",
       "      <td>-0.014444</td>\n",
       "      <td>0.004982</td>\n",
       "      <td>-5.085044</td>\n",
       "      <td>-7.180874</td>\n",
       "      <td>11.649327</td>\n",
       "    </tr>\n",
       "    <tr>\n",
       "      <th>65155</th>\n",
       "      <td>971.1</td>\n",
       "      <td>104</td>\n",
       "      <td>ironing</td>\n",
       "      <td>971.1</td>\n",
       "      <td>17</td>\n",
       "      <td>107.0</td>\n",
       "      <td>33.5000</td>\n",
       "      <td>-5.514400</td>\n",
       "      <td>-0.677807</td>\n",
       "      <td>7.460542</td>\n",
       "      <td>...</td>\n",
       "      <td>34.1875</td>\n",
       "      <td>10.113889</td>\n",
       "      <td>0.354044</td>\n",
       "      <td>-0.133332</td>\n",
       "      <td>0.027062</td>\n",
       "      <td>0.509818</td>\n",
       "      <td>0.207555</td>\n",
       "      <td>-38.865856</td>\n",
       "      <td>-4.177464</td>\n",
       "      <td>39.760167</td>\n",
       "    </tr>\n",
       "    <tr>\n",
       "      <th>93827</th>\n",
       "      <td>1419.2</td>\n",
       "      <td>103</td>\n",
       "      <td>vacuum cleaning</td>\n",
       "      <td>1419.2</td>\n",
       "      <td>16</td>\n",
       "      <td>93.0</td>\n",
       "      <td>33.1875</td>\n",
       "      <td>-8.890388</td>\n",
       "      <td>6.592283</td>\n",
       "      <td>0.465493</td>\n",
       "      <td>...</td>\n",
       "      <td>34.1250</td>\n",
       "      <td>10.975393</td>\n",
       "      <td>0.669437</td>\n",
       "      <td>-1.377694</td>\n",
       "      <td>0.350003</td>\n",
       "      <td>-0.589926</td>\n",
       "      <td>0.397779</td>\n",
       "      <td>-40.148136</td>\n",
       "      <td>-18.926018</td>\n",
       "      <td>25.628555</td>\n",
       "    </tr>\n",
       "    <tr>\n",
       "      <th>116699</th>\n",
       "      <td>1972.8</td>\n",
       "      <td>108</td>\n",
       "      <td>ascending stairs</td>\n",
       "      <td>1972.8</td>\n",
       "      <td>12</td>\n",
       "      <td>167.0</td>\n",
       "      <td>33.9375</td>\n",
       "      <td>-10.456847</td>\n",
       "      <td>-2.245722</td>\n",
       "      <td>-1.001173</td>\n",
       "      <td>...</td>\n",
       "      <td>33.8750</td>\n",
       "      <td>10.338493</td>\n",
       "      <td>-0.308871</td>\n",
       "      <td>-3.247993</td>\n",
       "      <td>-0.405577</td>\n",
       "      <td>0.494950</td>\n",
       "      <td>1.144147</td>\n",
       "      <td>-36.844091</td>\n",
       "      <td>7.042577</td>\n",
       "      <td>23.164218</td>\n",
       "    </tr>\n",
       "    <tr>\n",
       "      <th>174788</th>\n",
       "      <td>3250.8</td>\n",
       "      <td>102</td>\n",
       "      <td>Nordic walking</td>\n",
       "      <td>3250.8</td>\n",
       "      <td>7</td>\n",
       "      <td>116.0</td>\n",
       "      <td>30.6250</td>\n",
       "      <td>2.327180</td>\n",
       "      <td>14.215085</td>\n",
       "      <td>3.728783</td>\n",
       "      <td>...</td>\n",
       "      <td>34.2500</td>\n",
       "      <td>19.025660</td>\n",
       "      <td>1.333214</td>\n",
       "      <td>4.180466</td>\n",
       "      <td>0.148249</td>\n",
       "      <td>0.333343</td>\n",
       "      <td>-2.522402</td>\n",
       "      <td>-23.170327</td>\n",
       "      <td>33.194700</td>\n",
       "      <td>23.840127</td>\n",
       "    </tr>\n",
       "  </tbody>\n",
       "</table>\n",
       "<p>5 rows × 36 columns</p>\n",
       "</div>"
      ],
      "text/plain": [
       "        DStime subject          Activity  Timestamp  ActivityID  Heartrate  \\\n",
       "25199    445.2     107           sitting      445.2           2       65.0   \n",
       "65155    971.1     104           ironing      971.1          17      107.0   \n",
       "93827   1419.2     103   vacuum cleaning     1419.2          16       93.0   \n",
       "116699  1972.8     108  ascending stairs     1972.8          12      167.0   \n",
       "174788  3250.8     102    Nordic walking     3250.8           7      116.0   \n",
       "\n",
       "        IMU_Hand_Temp  IMU_Hand_3D_acceleration_1  IMU_Hand_3D_acceleration_2  \\\n",
       "25199         31.6875                   -1.893938                    6.389924   \n",
       "65155         33.5000                   -5.514400                   -0.677807   \n",
       "93827         33.1875                   -8.890388                    6.592283   \n",
       "116699        33.9375                  -10.456847                   -2.245722   \n",
       "174788        30.6250                    2.327180                   14.215085   \n",
       "\n",
       "        IMU_Hand_3D_acceleration_3  ...  IMU_Ankle_Temp  \\\n",
       "25199                     7.096335  ...         31.3750   \n",
       "65155                     7.460542  ...         34.1875   \n",
       "93827                     0.465493  ...         34.1250   \n",
       "116699                   -1.001173  ...         33.8750   \n",
       "174788                    3.728783  ...         34.2500   \n",
       "\n",
       "        IMU_Ankle_3D_acceleration_1  IMU_Ankle_3D_acceleration_2  \\\n",
       "25199                      9.243365                    -1.292796   \n",
       "65155                     10.113889                     0.354044   \n",
       "93827                     10.975393                     0.669437   \n",
       "116699                    10.338493                    -0.308871   \n",
       "174788                    19.025660                     1.333214   \n",
       "\n",
       "        IMU_Ankle_3D_acceleration_3  IMU_Ankle_3D_gyroscope_1  \\\n",
       "25199                     -3.653045                  0.012949   \n",
       "65155                     -0.133332                  0.027062   \n",
       "93827                     -1.377694                  0.350003   \n",
       "116699                    -3.247993                 -0.405577   \n",
       "174788                     4.180466                  0.148249   \n",
       "\n",
       "        IMU_Ankle_3D_gyroscope_2  IMU_Ankle_3D_gyroscope_3  \\\n",
       "25199                  -0.014444                  0.004982   \n",
       "65155                   0.509818                  0.207555   \n",
       "93827                  -0.589926                  0.397779   \n",
       "116699                  0.494950                  1.144147   \n",
       "174788                  0.333343                 -2.522402   \n",
       "\n",
       "        IMU_Ankle_3D_magnetometer_1  IMU_Ankle_3D_magnetometer_2  \\\n",
       "25199                     -5.085044                    -7.180874   \n",
       "65155                    -38.865856                    -4.177464   \n",
       "93827                    -40.148136                   -18.926018   \n",
       "116699                   -36.844091                     7.042577   \n",
       "174788                   -23.170327                    33.194700   \n",
       "\n",
       "        IMU_Ankle_3D_magnetometer_3  \n",
       "25199                     11.649327  \n",
       "65155                     39.760167  \n",
       "93827                     25.628555  \n",
       "116699                    23.164218  \n",
       "174788                    23.840127  \n",
       "\n",
       "[5 rows x 36 columns]"
      ]
     },
     "execution_count": 16,
     "metadata": {},
     "output_type": "execute_result"
    }
   ],
   "source": [
    "df=df.reset_index(drop=True) #the index needs resetting as multiple data frames have been combined and NaNs dropped\n",
    "\n",
    "random.seed(25) #seed set so that it will maintain dev and test set with each run\n",
    "\n",
    "dfd=df.sample(frac=0.8, random_state=25) #80% of data in dev set\n",
    "testdf=df.loc[~df.index.isin(dfd.index)] #test set is everything in the main df that is not in the dev set\n",
    "dfd.head()"
   ]
  },
  {
   "cell_type": "code",
   "execution_count": 17,
   "id": "53dabbc0",
   "metadata": {},
   "outputs": [
    {
     "data": {
      "text/plain": [
       "(155468, 36)"
      ]
     },
     "execution_count": 17,
     "metadata": {},
     "output_type": "execute_result"
    }
   ],
   "source": [
    "dfd.shape"
   ]
  },
  {
   "cell_type": "code",
   "execution_count": 18,
   "id": "4b2b3607",
   "metadata": {},
   "outputs": [
    {
     "data": {
      "text/plain": [
       "(38867, 36)"
      ]
     },
     "execution_count": 18,
     "metadata": {},
     "output_type": "execute_result"
    }
   ],
   "source": [
    "testdf.shape"
   ]
  },
  {
   "cell_type": "markdown",
   "id": "33c4bbab",
   "metadata": {},
   "source": [
    "---\n",
    "## 5. Exploratory Data Analysis <a name=\"eda\"></a>"
   ]
  },
  {
   "cell_type": "markdown",
   "id": "b8c13ed2",
   "metadata": {},
   "source": [
    "Our analysis will focus particularly on heart rate as that is one of the key values to work out how much exercise an individual has done and what kind.\n",
    "\n",
    "### 5.1 Heart rate analysis\n",
    "This is a bar chart of the mean heart rate for each individual activity. We can see that 'playing soccer' has the highest average heart rate all the way down to 'lying' with the lowest. This would seem to suggest that more intense activities lead to a greater heart rate, this will be tested later through our hypothesis testing."
   ]
  },
  {
   "cell_type": "code",
   "execution_count": 19,
   "id": "dd5d25ad",
   "metadata": {},
   "outputs": [
    {
     "data": {
      "image/png": "[encoded data removed]",
      "text/plain": [
       "<Figure size 720x360 with 1 Axes>"
      ]
     },
     "metadata": {
      "needs_background": "light"
     },
     "output_type": "display_data"
    }
   ],
   "source": [
    "df_hr = dfd['Heartrate'].groupby(dfd['Activity']).mean() #new dataframe grouped by activity for average heartrate\n",
    "df_hr = df_hr.sort_values(ascending=False) #sort data in descending order\n",
    "plt.figure(figsize=(10,5)) #make the plot larger\n",
    "plt.title('Bar chart: Mean heart rate grouped by activity')\n",
    "plt.ylabel('Mean heart rate')\n",
    "df_hr.plot(kind='bar') #make the plot a bar chart\n",
    "plt.xticks(rotation=45, ha='right'); #tilt the x lables so they are easier to read"
   ]
  },
  {
   "cell_type": "code",
   "execution_count": 20,
   "id": "071324c2",
   "metadata": {},
   "outputs": [
    {
     "data": {
      "text/plain": [
       "107.53473948936247"
      ]
     },
     "execution_count": 20,
     "metadata": {},
     "output_type": "execute_result"
    }
   ],
   "source": [
    "dfd['Heartrate'].mean()"
   ]
  },
  {
   "cell_type": "markdown",
   "id": "f7129397",
   "metadata": {},
   "source": [
    "We have now created a box plot of the heart rates for all of the activities, along with a red line across that shows the mean heart rate across all of the data. As expected the more sedentary activities lie below the line such as 'standing', 'ironing' and 'sitting'. Furthermore, an average resting heart rate is between 60-100 bpm and our mean heart rate is 107, therefore the red line is also closely indicative of the maximum likely resting heart rate."
   ]
  },
  {
   "cell_type": "code",
   "execution_count": 21,
   "id": "bf77fb09",
   "metadata": {
    "scrolled": false
   },
   "outputs": [
    {
     "data": {
      "image/png": "[encoded data removed]",
      "text/plain": [
       "<Figure size 720x504 with 1 Axes>"
      ]
     },
     "metadata": {
      "needs_background": "light"
     },
     "output_type": "display_data"
    }
   ],
   "source": [
    "def boxplot_sorted(df, by, column, rot=0):\n",
    "    # use a dictionary to make new dataframe from the groupby object\n",
    "    df2 = pd.DataFrame({col:vals[column] for col, vals in df.groupby(by)}) # each group name becomes a column in the new dataframe\n",
    "    meds = df2.median().sort_values(ascending=False) # find and sort the median values in this new dataframe\n",
    "    return df2[meds.index].boxplot(rot=rot, return_type=\"axes\",showfliers=False) # return axes \n",
    "\n",
    "df_hr2=dfd[['Heartrate','Activity']] #dataframe only containing heart rate and activity\n",
    "plt.figure(figsize=(10,7)) #make plot bigger\n",
    "axes = boxplot_sorted(df_hr2, by = ['Activity'], column = 'Heartrate') #using function to sort boxplots in order of median\n",
    "plt.xlabel('Activity')\n",
    "plt.ylabel('Heartrate (BPM)')\n",
    "plt.title('Boxplot showing heartrate grouped by activity')\n",
    "plt.xticks(rotation=45, ha='right') #tilt the x lables so they are easier to read\n",
    "plt.axhline(dfd['Heartrate'].mean(), c='r') #put in red line for mean heartrate across the whole data frame\n",
    "plt.show()"
   ]
  },
  {
   "cell_type": "markdown",
   "id": "48980dbf",
   "metadata": {},
   "source": [
    "### 5.2 Stair Analysis\n",
    "In the bar chart, we can see that ascending and descending stairs stand out on this graph of our chest gyroscope data 2. This could be connected to the increase and decrease in latitude whilst using stairs, this will also be tested by one our hypotheses."
   ]
  },
  {
   "cell_type": "code",
   "execution_count": 22,
   "id": "5275747f",
   "metadata": {},
   "outputs": [
    {
     "data": {
      "image/png": "[encoded data removed]",
      "text/plain": [
       "<Figure size 720x360 with 1 Axes>"
      ]
     },
     "metadata": {
      "needs_background": "light"
     },
     "output_type": "display_data"
    }
   ],
   "source": [
    "df_cg = dfd['IMU_Chest_3D_gyroscope_2'].groupby(dfd['Activity']).mean() #new data frame grouped by activity sorted for mean chest gyroscope\n",
    "df_cg = df_cg.sort_values(ascending=False) #sort values in descending order\n",
    "plt.figure(figsize=(10,5)) #make plot bigger\n",
    "plt.title('Bar chart: Mean chest gyroscope 2 data grouped by activity')\n",
    "plt.ylabel('Chest 3D-gyroscope data (rad/s)')\n",
    "df_cg.plot(kind='bar')\n",
    "plt.xticks(rotation=45, ha='right'); #tilt the x lables so they are easier to read "
   ]
  },
  {
   "cell_type": "markdown",
   "id": "9fc486c4",
   "metadata": {},
   "source": [
    "### 5.3 Temperature Analysis\n",
    "This bar chart uses the temperature from across participants hands, chests and ankles - grouped by the activity. The bar chart is sorted by the mean temperature of the participants chests as this will give us the most accurate reading of their body temperature rather than their surroundings. There does not seem to be any clear correlation between high intensity activities and temperature, but we will test this to make sure in our hypotheses."
   ]
  },
  {
   "cell_type": "code",
   "execution_count": 23,
   "id": "44d80673",
   "metadata": {},
   "outputs": [
    {
     "data": {
      "image/png": "[encoded data removed]",
      "text/plain": [
       "<Figure size 720x504 with 1 Axes>"
      ]
     },
     "metadata": {
      "needs_background": "light"
     },
     "output_type": "display_data"
    }
   ],
   "source": [
    "#new data frame grouped by activity sorted by temperature\n",
    "df_hr = dfd[['IMU_Chest_Temp','IMU_Ankle_Temp','IMU_Hand_Temp']].groupby(dfd['Activity']).mean()\n",
    "df_hr = df_hr.sort_values(by = 'IMU_Chest_Temp',ascending=False) #sorting by mean chest temp, descending order\n",
    "df_hr.plot(kind='bar',figsize=(10,7)) #bar chart, and making it bigger\n",
    "plt.ylabel('Temperature (C)')\n",
    "plt.ylim(28,37.5) #focusing in on the graph by limiting the y range\n",
    "plt.xticks(rotation=45, ha='right') #tilt the x lables so they are easier to read \n",
    "plt.show;"
   ]
  },
  {
   "cell_type": "markdown",
   "id": "a358f63a",
   "metadata": {},
   "source": [
    "### 5.4 Variable Correlation Analysis\n",
    "Below is a correlation heat-map that shows how closely related two parameters are, or not. Dark green suggests a strong correlation all the way down to dark pink, where lighter colours of pink and green suggest minimal correlation. For the most part the graph is quite light in colour which suggest that most of our parameters are not strongly correlated, However, a few do correlate such as chest and hand temperature, along with all the other temperature pairings. Inversely correlated are all of the hand magnetometer parameters and their respective hand acceleration data."
   ]
  },
  {
   "cell_type": "code",
   "execution_count": 24,
   "id": "7fa51fe6",
   "metadata": {},
   "outputs": [
    {
     "data": {
      "image/png": "[encoded data removed]",
      "text/plain": [
       "<Figure size 864x648 with 2 Axes>"
      ]
     },
     "metadata": {
      "needs_background": "light"
     },
     "output_type": "display_data"
    }
   ],
   "source": [
    "df_heatmap = dfd.corr() #using the corr() function to create heatmap\n",
    "figure, ax = plt.subplots(figsize=(12, 9)) #making the plot bigger\n",
    "#seaborn heatmap function, colour map is pink to green \n",
    "sns.heatmap(df_heatmap, mask=np.zeros_like(df_heatmap), cmap = \"PiYG\",ax=ax) \n",
    "plt.show()"
   ]
  },
  {
   "cell_type": "markdown",
   "id": "604863ce",
   "metadata": {},
   "source": [
    "---\n",
    "## 6. Hypothesis Testing <a name=\"hyp\"></a>"
   ]
  },
  {
   "cell_type": "markdown",
   "id": "2bfdc577",
   "metadata": {},
   "source": [
    "### 6.1 Heart rate hypothesis test\n",
    "**If** higher intensity activities are related to heart rate, **then** when intensive activities are performed heart rate will be higher than those who are performing lower intensity activities.\n",
    "\n",
    "Important to note that \"intensive activity\" is a subjective statement so other data scientists may disagree with my definition and group separation but within the means of this report I cannot separately access which activity is deemed intensive. However, based on my development data I will create the following two groups:\n",
    "\n",
    "Higher intensity activities:\n",
    "- Rope Jumping\n",
    "- Running\n",
    "- Ascending Stairs\n",
    "- Descending Stairs\n",
    "- Cycling\n",
    "- Nordic Walking\n",
    "- Walking\n",
    "\n",
    "Lower intensity activities:\n",
    "- Vacuum cleaning\n",
    "- Ironing\n",
    "- Standing\n",
    "- Sitting\n",
    "- Lying\n",
    "\n",
    "\n",
    "\n",
    "$μ_1$ = Mean heart rate for 'higher intensity activities'\n",
    "\n",
    "$μ_2$ = Mean heart rate for 'lower intensity activities'\n",
    "\n",
    "**Null hypothesis:** higher intensity mean heart rate minus lower intensity mean heart rate is zero\n",
    "\n",
    ">$H_0:μ_1-μ_2 = 0$ \n",
    "\n",
    "**Testable hypothesis:** higher intensity mean heart rate minus lower intensity mean heart rate is more than zero\n",
    "\n",
    ">$H_1:μ_1-μ_2 > 0$ "
   ]
  },
  {
   "cell_type": "code",
   "execution_count": 25,
   "id": "b3bb9ba3",
   "metadata": {},
   "outputs": [
    {
     "name": "stdout",
     "output_type": "stream",
     "text": [
      "Mean heartrate for higher intensity activities: 135.87366956792212\n",
      "Mean heartrate for lower intensity activities: 87.49311653100477\n"
     ]
    }
   ],
   "source": [
    "#creating the high intensity activity only data frame\n",
    "highintensity = testdf.loc[(testdf.Activity=='rope jumping')|\n",
    "                          (testdf.Activity=='running')|\n",
    "                          (testdf.Activity=='ascending stairs')|\n",
    "                          (testdf.Activity=='descending stairs')|\n",
    "                          (testdf.Activity=='cycling')|\n",
    "                          (testdf.Activity=='Nordic Walking')|\n",
    "                          (testdf.Activity=='Walking')]\n",
    "\n",
    "#creating the low intensity activity only data frame\n",
    "lowintensity = testdf.loc[(testdf.Activity=='vacuum cleaning')|\n",
    "                          (testdf.Activity=='ironing')|\n",
    "                          (testdf.Activity=='standing')|\n",
    "                          (testdf.Activity=='sitting')|\n",
    "                          (testdf.Activity=='lying')]\n",
    "\n",
    "print('Mean heartrate for higher intensity activities: ' + str(highintensity.Heartrate.mean()))\n",
    "print('Mean heartrate for lower intensity activities: '+ str(lowintensity.Heartrate.mean()))"
   ]
  },
  {
   "cell_type": "code",
   "execution_count": 26,
   "id": "ec0d8883",
   "metadata": {},
   "outputs": [
    {
     "data": {
      "image/png": "[encoded data removed]",
      "text/plain": [
       "<Figure size 864x360 with 1 Axes>"
      ]
     },
     "metadata": {
      "needs_background": "light"
     },
     "output_type": "display_data"
    }
   ],
   "source": [
    "lowintensity.hist(column='Heartrate', figsize=(12,5), bins=30)\n",
    "plt.title('Histogram: low intensity activity heart rates')\n",
    "plt.xlabel('Heart rate (BPM)')\n",
    "plt.ylabel('Frequency in each bin');"
   ]
  },
  {
   "cell_type": "code",
   "execution_count": 27,
   "id": "788f501d",
   "metadata": {},
   "outputs": [
    {
     "data": {
      "image/png": "[encoded data removed]",
      "text/plain": [
       "<Figure size 864x360 with 1 Axes>"
      ]
     },
     "metadata": {
      "needs_background": "light"
     },
     "output_type": "display_data"
    }
   ],
   "source": [
    "highintensity.hist(column='Heartrate', figsize=(12,5), bins=30)\n",
    "plt.title('Histogram: high intensity activity heart rate')\n",
    "plt.xlabel('Heart rate (BPM)')\n",
    "plt.ylabel('Frequency in each bin');"
   ]
  },
  {
   "cell_type": "code",
   "execution_count": 28,
   "id": "df071a76",
   "metadata": {},
   "outputs": [
    {
     "name": "stdout",
     "output_type": "stream",
     "text": [
      "One tail high intesity activities compared to low intensity activites difference:  0.0\n"
     ]
    }
   ],
   "source": [
    "#Calculating the mean, standard deviation and count(the number of data points) for both the high and low intensity dfs\n",
    "hintensity_mean=highintensity['Heartrate'].mean()\n",
    "hintensity_std=highintensity['Heartrate'].std()\n",
    "hintensity_count=highintensity['Heartrate'].count()\n",
    "lintensity_mean=lowintensity['Heartrate'].mean()\n",
    "lintensity_std=lowintensity['Heartrate'].std()\n",
    "lintensity_count=lowintensity['Heartrate'].count()\n",
    "\n",
    "#calculating the denominator for the z score\n",
    "error=(((lintensity_std**2)/lintensity_count)+((hintensity_std**2)/hintensity_count))**0.5   \n",
    "z=(hintensity_mean-lintensity_mean)/error #z score formula\n",
    "p_value = (1-stats.norm.cdf(z)) #calulcating p value for normal distribution\n",
    "print ('One tail high intesity activities compared to low intensity activites difference: ', p_value)"
   ]
  },
  {
   "cell_type": "markdown",
   "id": "9a9bd974",
   "metadata": {},
   "source": [
    "Our p-value is 0.0 which is less than our significance level of 0.1 therefore we can **accept our alternate hypothesis.** Our alternate hypothesis suggested that more intense activities lead to higher heart rates, we can now see that that is statistically accurate."
   ]
  },
  {
   "cell_type": "markdown",
   "id": "1bc0e985",
   "metadata": {},
   "source": [
    "### 6.2 Ascending and Descending Stairs Hypothesis\n",
    "\n",
    "**If** stair ascending or descending activities are related to latitude change, **then** when stair activities are performed chest gyroscope 2 will have a higher absolute mean value.\n",
    "\n",
    "The reason we are using absolute values is because in our exploratory data analysis we could see that the average chest gyroscope values for ascending stairs was large and positive, but in contrast, for descending stairs the value was very large but negative. This would make sense as their latitude would be increasing when they climb the stairs and decreasing when the descend them. So in order to compare both stair activities to all of the other activities we must use absolute values, otherwise they could cancel each other out.\n",
    "\n",
    "μ1  = Mean absolute value for chest gyroscope 2 for ascending and descending stairs.\n",
    "\n",
    "μ2 = Mean absolute value for chest gyroscope 2 for all other activities.\n",
    "\n",
    "**Null hypothesis:** mean value for chest gyroscope 2 for stair activities minus mean value for chest gyroscope 2 for all other activities is equal to zero.\n",
    "\n",
    ">$H_0:μ_1-μ_2 = 0$ \n",
    "\n",
    "**Testable hypothesis:** mean value for chest gyroscope 2 for stair activities minus mean value for chest gyroscope 2 for all other activities is greater than zero.\n",
    "\n",
    ">$H_1:μ_1-μ_2 > 0$ "
   ]
  },
  {
   "cell_type": "code",
   "execution_count": 29,
   "id": "43ffee01",
   "metadata": {},
   "outputs": [
    {
     "name": "stdout",
     "output_type": "stream",
     "text": [
      "Mean chest gyroscope for stair activities: 0.6490136327179966\n",
      "Mean chest gyroscope for non stair activities: 0.250808504662909\n"
     ]
    }
   ],
   "source": [
    "#creating the stair activity only data frame\n",
    "stairsdf = testdf.loc[(testdf.Activity=='ascending stairs')|\n",
    "                      (testdf.Activity=='descending stairs')]\n",
    "\n",
    "#creating the non stair activity only data frame\n",
    "notstairsdf = testdf.loc[(testdf.Activity=='rope jumping')|\n",
    "                         (testdf.Activity=='running')|\n",
    "                         (testdf.Activity=='vacuum cleaning')|\n",
    "                         (testdf.Activity=='ironing')|\n",
    "                         (testdf.Activity=='standing')|\n",
    "                         (testdf.Activity=='sitting')|\n",
    "                         (testdf.Activity=='lying')|\n",
    "                         (testdf.Activity=='cycling')|\n",
    "                         (testdf.Activity=='Nordic Walking')|\n",
    "                         (testdf.Activity=='Walking')]\n",
    "\n",
    "print('Mean chest gyroscope for stair activities: ' + str(stairsdf.IMU_Chest_3D_gyroscope_2.abs().mean()))\n",
    "print('Mean chest gyroscope for non stair activities: '+ str(notstairsdf.IMU_Chest_3D_gyroscope_2.abs().mean()))"
   ]
  },
  {
   "cell_type": "markdown",
   "id": "32217e96",
   "metadata": {},
   "source": [
    "As we can see both of the 'stair' and 'non stair' activities form a normal distribution. The frequencies in the 'non stair' histogram are a lot higher since that data frame includes a much larger set of data than the stairs data. However, we can still see that in the stair data there are higher frequencies away from the 0, center point, than there are compared to non stair activities which would support our hypothesis."
   ]
  },
  {
   "cell_type": "code",
   "execution_count": 30,
   "id": "76a0a840",
   "metadata": {},
   "outputs": [
    {
     "data": {
      "image/png": "[encoded data removed]",
      "text/plain": [
       "<Figure size 864x360 with 1 Axes>"
      ]
     },
     "metadata": {
      "needs_background": "light"
     },
     "output_type": "display_data"
    }
   ],
   "source": [
    "stairsdf.IMU_Chest_3D_gyroscope_2.hist(figsize=(12,5), bins=50)\n",
    "plt.title('Histogram: stair activities for chest gyroscope data')\n",
    "plt.xlabel('Chest gyroscope (rad/s)')\n",
    "plt.ylabel('Frequency in each bin');"
   ]
  },
  {
   "cell_type": "code",
   "execution_count": 31,
   "id": "776ecfb9",
   "metadata": {},
   "outputs": [
    {
     "data": {
      "image/png": "[encoded data removed]",
      "text/plain": [
       "<Figure size 864x360 with 1 Axes>"
      ]
     },
     "metadata": {
      "needs_background": "light"
     },
     "output_type": "display_data"
    }
   ],
   "source": [
    "notstairsdf.IMU_Chest_3D_gyroscope_2.hist(figsize=(12,5), bins=50)\n",
    "plt.title('Histogram: non stair activities for chest gyroscope data')\n",
    "plt.xlabel('Chest gyroscope (rad/s)')\n",
    "plt.ylabel('Frequency in each bin');"
   ]
  },
  {
   "cell_type": "code",
   "execution_count": 32,
   "id": "f89f24a4",
   "metadata": {},
   "outputs": [
    {
     "name": "stdout",
     "output_type": "stream",
     "text": [
      "One tail high intesity activities compared to low intensity activites difference:  0.0\n"
     ]
    }
   ],
   "source": [
    "#Calculating the mean, standard deviation and count(the number of data points) for both the stair and non stair dfs\n",
    "stairs_mean=stairsdf.IMU_Chest_3D_gyroscope_2.abs().mean()\n",
    "stairs_std=stairsdf.IMU_Chest_3D_gyroscope_2.abs().std()\n",
    "stairs_count=stairsdf.IMU_Chest_3D_gyroscope_2.abs().count()\n",
    "not_stairs_mean=notstairsdf.IMU_Chest_3D_gyroscope_2.abs().mean()\n",
    "not_stairs_std=notstairsdf.IMU_Chest_3D_gyroscope_2.abs().std()\n",
    "not_stairs_count=notstairsdf.IMU_Chest_3D_gyroscope_2.abs().count()\n",
    "\n",
    "#calculating the denominator for the z score\n",
    "error=(((stairs_std**2)/stairs_count)+((not_stairs_std**2)/not_stairs_count))**0.5   \n",
    "z=(stairs_mean-not_stairs_mean)/error #z score formula\n",
    "p_value = (1-stats.norm.cdf(z)) #calulcating p value for normal distribution\n",
    "print ('One tail high intesity activities compared to low intensity activites difference: ', p_value)"
   ]
  },
  {
   "cell_type": "markdown",
   "id": "e8214607",
   "metadata": {},
   "source": [
    "Our p-value is 0.0 which is less than our significance level of 0.1 therefore we can **accept our alternate hypothesis.** Our alternate hypothesis suggested that climbing or descending stairs was related to latitude change, we can now see that that is statistically accurate."
   ]
  },
  {
   "cell_type": "markdown",
   "id": "09856507",
   "metadata": {},
   "source": [
    "### 6.3 Temperature Hypothesis\n",
    "**If** high temperature is related to high intensity activities **then** when intensive activities are performed mean temperature will be higher than those who are performing lower intensity activities.\n",
    "\n",
    "Please refer to hypothesis 6.1 for explanation of 'high' and 'low' intensity activities.\n",
    "\n",
    "$μ_1$ = Mean temperature for 'higher intensity activities'\n",
    "\n",
    "$μ_2$ = Mean temperature for 'lower intensity activities'\n",
    "\n",
    "**Null hypothesis:** higher intensity mean temperature rate minus lower intensity mean temperature is zero\n",
    "\n",
    ">$H_0:μ_1-μ_2 = 0$ \n",
    "\n",
    "**Testable hypothesis:** higher intensity mean temperature minus lower intensity mean temperature is more than zero\n",
    "\n",
    ">$H_1:μ_1-μ_2 > 0$ "
   ]
  },
  {
   "cell_type": "code",
   "execution_count": 33,
   "id": "eb8efe98",
   "metadata": {},
   "outputs": [
    {
     "name": "stdout",
     "output_type": "stream",
     "text": [
      "Mean temperature for higher intensity activities: 35.82683625968061\n",
      "Mean temperature for lower intensity activities: 36.18252078853232\n"
     ]
    }
   ],
   "source": [
    "print('Mean temperature for higher intensity activities: ' + str(highintensity.IMU_Chest_Temp.mean()))\n",
    "print('Mean temperature for lower intensity activities: '+ str(lowintensity.IMU_Chest_Temp.mean()))"
   ]
  },
  {
   "cell_type": "code",
   "execution_count": 34,
   "id": "95bb5b58",
   "metadata": {},
   "outputs": [
    {
     "name": "stdout",
     "output_type": "stream",
     "text": [
      "One tail high intesity activities compared to low intensity activites difference:  1.0\n"
     ]
    }
   ],
   "source": [
    "#Calculating the mean, standard deviation and count(the number of data points) for both the stair and non stair dfs\n",
    "hintensity_mean=highintensity['IMU_Chest_Temp'].mean()\n",
    "hintensity_std=highintensity['IMU_Chest_Temp'].std()\n",
    "hintensity_count=highintensity['IMU_Chest_Temp'].count()\n",
    "lintensity_mean=lowintensity['IMU_Chest_Temp'].mean()\n",
    "lintensity_std=lowintensity['IMU_Chest_Temp'].std()\n",
    "lintensity_count=lowintensity['IMU_Chest_Temp'].count()\n",
    "\n",
    "#calculating the denominator for the z score\n",
    "error=(((lintensity_std**2)/lintensity_count)+((hintensity_std**2)/hintensity_count))**0.5   \n",
    "z=(hintensity_mean-lintensity_mean)/error #z score formula\n",
    "p_value = (1-stats.norm.cdf(z)) #calulcating p value for normal distribution\n",
    "print ('One tail high intesity activities compared to low intensity activites difference: ', p_value)"
   ]
  },
  {
   "cell_type": "markdown",
   "id": "4c65e2d3",
   "metadata": {},
   "source": [
    "Our p-value is 1.0 which is clearly more than our significance level of 0.1 therefore we can **reject our alternate hypothesis.** Our alternate hypothesis suggested that more intense activities lead to higher temperatures, we can now see that that is statistically inaccurate."
   ]
  },
  {
   "cell_type": "markdown",
   "id": "01ce28c3",
   "metadata": {},
   "source": [
    "---\n",
    "## 7. Principle Component Analysis <a name=\"PCA\"></a>\n",
    "\n",
    "Principle component analysis allows us to reduce the dimensionality of our data. This has many benefits, such as speeding up run time, greater efficiency for teaching models and allows us to the view data in lower dimensions as we cannot visualise anything in greater than 3 dimensions. \n",
    "\n",
    "Principle component analysis creates new variables for every dimension of the original data, however, each new variable is a mixture of the initial data, done in such a way that the new variables, which are what we call our principle components, have the majority, and most important information, in the first variable. So we have 31 variables (excluding timestamp, activity, activityID), therefore we will have 31 principle components, the analysis will try to put the most information in the first component.\n",
    "\n",
    "**Step 1: Standarise the data**\n",
    "\n",
    "We first need to standardise the data which means moving the center of the data to the origin of the graph. This means that range of each of our variables is now the same, therefore, each variable will contribute equally to the analysis. So for example our temperature data maxes out around 38, whereas heart rate frequently goes as high as 160 or more, therefore, if we did not standardise the data, then heart rate would be much more dominant than temperature leading to biased results. To do this we use the formula:\n",
    ">$$value - mean\\over\\ standard\\:deviation $$"
   ]
  },
  {
   "cell_type": "code",
   "execution_count": 35,
   "id": "aa762346",
   "metadata": {},
   "outputs": [],
   "source": [
    "#creating a function to plot our points so we dont have to repeat\n",
    "def plot_points(data, name='Random Dataset', axis_eq=True):\n",
    "    plt.scatter(data[:,0], data[:,1], marker='x', color='b')\n",
    "    plt.title(name)\n",
    "    plt.xlabel('principle component 1')\n",
    "    plt.ylabel('principle component 2')\n",
    "    if axis_eq == True:\n",
    "        plt.axis('equal')"
   ]
  },
  {
   "cell_type": "code",
   "execution_count": 36,
   "id": "3f4c6f31",
   "metadata": {},
   "outputs": [
    {
     "data": {
      "image/png": "[encoded data removed]",
      "text/plain": [
       "<Figure size 432x288 with 1 Axes>"
      ]
     },
     "metadata": {
      "needs_background": "light"
     },
     "output_type": "display_data"
    }
   ],
   "source": [
    "#new data frame with only the columns from heart rate to ankle magnetometer 3 included\n",
    "df_1=df.loc[:,'Heartrate':'IMU_Ankle_3D_magnetometer_3'] \n",
    "data=df_1.to_numpy() #converts df to numpy array\n",
    "data = data - data.mean(axis=0) #centering the data, by subtracting the mean of each column.\n",
    "\n",
    "# Slice the data by taking x = first column, y = second column.\n",
    "x = data[:, 0]\n",
    "y = data[:, 1]\n",
    "plot_points(data, name='PCA graph before transformed',axis_eq=False)"
   ]
  },
  {
   "cell_type": "markdown",
   "id": "edb21d95",
   "metadata": {},
   "source": [
    "**Step 2: Covariance Matrix and corresponding eigenvalues** \n",
    "\n",
    "This step is done to see if any of the variable are closely related, as if they are producing very similar or the same data, then this can be made redundant. Referring back to our explanation for PCA we recall that we want to have the most information in our first component, so we use the variance to put variables with the largest variance in our first component. So when we order our eigenvalues from largest to smallest, we are also listing our principle components in order of significance."
   ]
  },
  {
   "cell_type": "code",
   "execution_count": 37,
   "id": "62c86dcc",
   "metadata": {
    "scrolled": true
   },
   "outputs": [
    {
     "name": "stdout",
     "output_type": "stream",
     "text": [
      "Eigenvalues are: [2.81407996e+08 1.71570871e+08 1.18122992e+08 7.55445322e+07\n",
      " 6.79184950e+07 5.94124455e+07 4.14282052e+07 3.63890504e+07\n",
      " 2.34454976e+07 1.73771822e+07 6.15257667e+06 5.02567680e+06\n",
      " 4.02764363e+06 2.84762528e+06 1.89212079e+06 1.29083542e+06\n",
      " 1.18349020e+06 9.55702857e+05 7.95151182e+05 7.39241206e+05\n",
      " 4.23489733e+05 3.08042542e+05 2.25597536e+05 9.99468174e+03\n",
      " 2.07359935e+04 3.87104282e+04 5.89619166e+04 9.14971332e+04\n",
      " 1.40321684e+05 1.24955051e+05 1.12204951e+05]\n",
      "The largest eigenvalue is at index : 0\n"
     ]
    }
   ],
   "source": [
    "Sigma = data.T.dot(data) #calculate covariance matrix\n",
    "u, v = np.linalg.eig(Sigma) #calculate eigenvectors and eigenvalues\n",
    "print('Eigenvalues are: {}'.format(u))\n",
    "max_eigen_index = np.argsort(u)[-1] #ordered in ascending order, [-1] indexes the final element of the list\n",
    "min_eigen_index = np.argsort(u)[0]\n",
    "print('The largest eigenvalue is at index : {}'.format(max_eigen_index))"
   ]
  },
  {
   "cell_type": "markdown",
   "id": "c2b057b0",
   "metadata": {},
   "source": [
    "**Step 3: Plot and Transform**\n",
    "\n",
    "We now want to plot our principle components and use our eigenvalues to create arrows that represent our first two principle components on our graph, we have also rotated the graph so that the lines are at parallel to the axes."
   ]
  },
  {
   "cell_type": "code",
   "execution_count": 38,
   "id": "ad711b15",
   "metadata": {},
   "outputs": [
    {
     "data": {
      "image/png": "[encoded data removed]",
      "text/plain": [
       "<Figure size 432x288 with 1 Axes>"
      ]
     },
     "metadata": {
      "needs_background": "light"
     },
     "output_type": "display_data"
    }
   ],
   "source": [
    "transformed = data.dot(v)#returns the dot product\n",
    "plot_points(transformed, name='PCA transformed')\n",
    "Sigma=transformed.T.dot(transformed)# covariance matrix\n",
    "u1,v1=np.linalg.eig(Sigma) #eigenvalue and eigenvector\n",
    "total=sum(u1) \n",
    "prop=[x/total for x in u1] #calculating the proportional arrow size multiplier\n",
    "\n",
    "#plot proportional arrows\n",
    "plt.arrow(0, 0, 300*prop[0]*v1[0,0], 300*prop[0]*v1[1,0] , color='r', head_width=5)\n",
    "plt.arrow(0, 0, 300*prop[1]*v1[0,1],300*prop[1]*v1[1,1] , color='m', head_width=5);"
   ]
  },
  {
   "cell_type": "markdown",
   "id": "c1238da0",
   "metadata": {},
   "source": [
    "It's currently unclear to see whether the PCA has been helpful so we need to view our graphs differently."
   ]
  },
  {
   "cell_type": "code",
   "execution_count": 39,
   "id": "cc4a87b9",
   "metadata": {},
   "outputs": [
    {
     "data": {
      "image/png": "[encoded data removed]",
      "text/plain": [
       "<Figure size 1440x720 with 1 Axes>"
      ]
     },
     "metadata": {
      "needs_background": "light"
     },
     "output_type": "display_data"
    }
   ],
   "source": [
    "first_component = np.zeros((31,2)) #making an empty array the same size as the new data\n",
    "first_component[:,max_eigen_index] = v[:,max_eigen_index] #putting all the eigen values in the empty array\n",
    "reconstructed = data.dot(first_component.dot(first_component.T)) #dot product\n",
    "plt.figure(figsize=(20,10)) #make the plot bigger\n",
    "plt.hist(reconstructed) #plotting\n",
    "plt.title('Histogramg for reconstructed clusters');"
   ]
  },
  {
   "cell_type": "markdown",
   "id": "b8e359a4",
   "metadata": {},
   "source": [
    "We can clearly see three peaks where our data is clustered."
   ]
  },
  {
   "cell_type": "markdown",
   "id": "22411dea",
   "metadata": {},
   "source": [
    "---\n",
    "## 8. Clustering <a name=\"clustering\"></a>\n",
    "Clustering is way of grouping data into 'clusters' where the data within each cluster is more closely related to each other. I will be using K-means clustering which is a partitional clustering algorithm, this means that there is a central vector for each cluster and the groups are formed based on how far they are from this point or 'centroid'.\n",
    "\n",
    "K-means works by picking a specified number of centroids (based on how many clusters would seem to show the optimal arrangement, this can be calculated separately). Clusters are then formed based on whichever centroid the data points are closest to. Once these clusters are formed a new centroid is picked in the middle of the cluster and the process is repeated multiple times until the centroid no longer changes.\n",
    "\n",
    "I used the 'elbow method' to try and pick the optimum number of clusters, this technique runs the K-Means model and varies the number of clusters from 1 to 10. For each version we are calculating the 'inertia' of the model, this is the sum of the squared distances between their closest cluster center. The idea with the elbow method is that each of these points is then plotted on the graph and the point where the graph bends most distinctly (ie the elbow) would be the best number of clusters. However, on my graph there is not a clear elbow so I have run my model with cluster sizes 2,3 and 4. \n",
    "\n",
    "When we produce our clusters we can gather data about how well our clusters have been formed, I have the ARI and the Silhouette score. \n",
    "\n",
    "The ARI (adjusted rand index) measures the similarity between clusters, the value of the ARI would be 0 if the values were randomly assigned to a cluster, therefore the closer an ARI is to 1, the better. \n",
    "\n",
    "The Silhouette score measures how dense or sparse clusters are, and looks at the distances between each cluster. The Silhouette score is between -1 and 1, a silhouette score close to 1 means the clusters are quite dense and clearly separated from the other clusters. A score of 0 means the clusters are fully overlapping each other, and anything less than one suggests an error has occurred in creating the clusters.\n",
    "\n",
    "Therefore, we want both our ARI score and Silhouette score to be as close to 1 as possible."
   ]
  },
  {
   "cell_type": "code",
   "execution_count": 40,
   "id": "1801e41a",
   "metadata": {},
   "outputs": [
    {
     "name": "stdout",
     "output_type": "stream",
     "text": [
      "Activity labels: ['rope jumping', 'lying', 'sitting', 'standing', 'ironing', 'vacuum cleaning', 'ascending stairs', 'descending stairs', 'walking', 'Nordic walking', 'cycling', 'running']\n"
     ]
    }
   ],
   "source": [
    "Labels = df['Activity'] #creating our lables for our learning\n",
    "#creating a new data frame with only the columns from heart rate to ankle magnetometer 3\n",
    "Data = df.loc[:,'Heartrate':'IMU_Ankle_3D_magnetometer_3'] \n",
    "Labels_keys = Labels.unique().tolist() #converts data frame to list\n",
    "Labels = np.array(Labels) #creates a Labels array\n",
    "print('Activity labels: ' + str(Labels_keys))"
   ]
  },
  {
   "cell_type": "code",
   "execution_count": 41,
   "id": "ab0282f5",
   "metadata": {},
   "outputs": [],
   "source": [
    "#normalise the data\n",
    "scaler = StandardScaler()\n",
    "Data = scaler.fit_transform(Data)"
   ]
  },
  {
   "cell_type": "code",
   "execution_count": 42,
   "id": "650d6d60",
   "metadata": {},
   "outputs": [
    {
     "data": {
      "image/png": "[encoded data removed]",
      "text/plain": [
       "<Figure size 576x360 with 1 Axes>"
      ]
     },
     "metadata": {
      "needs_background": "light"
     },
     "output_type": "display_data"
    }
   ],
   "source": [
    "#check the optimal k value\n",
    "clusters = range(1, 10) #check cluster sizes 1 to 10\n",
    "inertias = [] #empty list for inertias to be added\n",
    "\n",
    "for i in clusters: #loop through number of clusters\n",
    "    model = KMeans(n_clusters=i).fit(Data) #set model = to KMeans for i number of clusters\n",
    "    inertias.append(model.inertia_) #add model to the list of intertias\n",
    "\n",
    "plt.figure(figsize=(8,5)) #make plot bigger\n",
    "plt.plot(clusters, inertias, '-o') #plot the clusters on x and intertias on y with -o which means a line connecting dots\n",
    "plt.title('Elbow graph for optimal number of clusters')\n",
    "plt.xlabel('Number of clusters')\n",
    "plt.ylabel('Inertia')\n",
    "plt.xticks(clusters)\n",
    "plt.show()"
   ]
  },
  {
   "cell_type": "code",
   "execution_count": 43,
   "id": "7cf1dc3d",
   "metadata": {},
   "outputs": [],
   "source": [
    "def k_means(n_clust, data_frame, true_labels): #Function applies k-means clustering algorithm on dataset \n",
    "#running the KMeans Sklearn function for n_clust number of clusters, set random state to keep the same, 30 runs \n",
    "    k_means = KMeans(n_clusters = n_clust, random_state=123, n_init=30) \n",
    "    k_means.fit(data_frame) #train the model\n",
    "    c_labels = k_means.labels_ #set culster labels\n",
    "    df = pd.DataFrame({'Cluster': c_labels, 'Activity': true_labels.tolist()}) #new data frame with cluster labels and actual labels\n",
    "    ct = pd.crosstab(df['Cluster'], df['Activity']) #crosstabulating culster and activity columns \n",
    "    y_clust = k_means.predict(data_frame) #predicts the labels\n",
    "    display(ct)\n",
    "    print('ARI = ' +str(round(adjusted_rand_score(true_labels, y_clust),2)))\n",
    "    print('Silhouette Score = '+str(round(silhouette_score(data_frame, y_clust, metric='euclidean'),2)))"
   ]
  },
  {
   "cell_type": "code",
   "execution_count": 45,
   "id": "f27b976d",
   "metadata": {},
   "outputs": [
    {
     "data": {
      "text/html": [
       "<div>\n",
       "<style scoped>\n",
       "    .dataframe tbody tr th:only-of-type {\n",
       "        vertical-align: middle;\n",
       "    }\n",
       "\n",
       "    .dataframe tbody tr th {\n",
       "        vertical-align: top;\n",
       "    }\n",
       "\n",
       "    .dataframe thead th {\n",
       "        text-align: right;\n",
       "    }\n",
       "</style>\n",
       "<table border=\"1\" class=\"dataframe\">\n",
       "  <thead>\n",
       "    <tr style=\"text-align: right;\">\n",
       "      <th>Activity</th>\n",
       "      <th>Nordic walking</th>\n",
       "      <th>ascending stairs</th>\n",
       "      <th>cycling</th>\n",
       "      <th>descending stairs</th>\n",
       "      <th>ironing</th>\n",
       "      <th>lying</th>\n",
       "      <th>rope jumping</th>\n",
       "      <th>running</th>\n",
       "      <th>sitting</th>\n",
       "      <th>standing</th>\n",
       "      <th>vacuum cleaning</th>\n",
       "      <th>walking</th>\n",
       "    </tr>\n",
       "    <tr>\n",
       "      <th>Cluster</th>\n",
       "      <th></th>\n",
       "      <th></th>\n",
       "      <th></th>\n",
       "      <th></th>\n",
       "      <th></th>\n",
       "      <th></th>\n",
       "      <th></th>\n",
       "      <th></th>\n",
       "      <th></th>\n",
       "      <th></th>\n",
       "      <th></th>\n",
       "      <th></th>\n",
       "    </tr>\n",
       "  </thead>\n",
       "  <tbody>\n",
       "    <tr>\n",
       "      <th>0</th>\n",
       "      <td>0</td>\n",
       "      <td>0</td>\n",
       "      <td>0</td>\n",
       "      <td>10</td>\n",
       "      <td>0</td>\n",
       "      <td>17902</td>\n",
       "      <td>3</td>\n",
       "      <td>1</td>\n",
       "      <td>551</td>\n",
       "      <td>0</td>\n",
       "      <td>0</td>\n",
       "      <td>0</td>\n",
       "    </tr>\n",
       "    <tr>\n",
       "      <th>1</th>\n",
       "      <td>18819</td>\n",
       "      <td>11735</td>\n",
       "      <td>16466</td>\n",
       "      <td>10500</td>\n",
       "      <td>23871</td>\n",
       "      <td>1355</td>\n",
       "      <td>4937</td>\n",
       "      <td>9824</td>\n",
       "      <td>17956</td>\n",
       "      <td>18986</td>\n",
       "      <td>17543</td>\n",
       "      <td>23876</td>\n",
       "    </tr>\n",
       "  </tbody>\n",
       "</table>\n",
       "</div>"
      ],
      "text/plain": [
       "Activity  Nordic walking  ascending stairs  cycling  descending stairs  \\\n",
       "Cluster                                                                  \n",
       "0                      0                 0        0                 10   \n",
       "1                  18819             11735    16466              10500   \n",
       "\n",
       "Activity  ironing  lying  rope jumping  running  sitting  standing  \\\n",
       "Cluster                                                              \n",
       "0               0  17902             3        1      551         0   \n",
       "1           23871   1355          4937     9824    17956     18986   \n",
       "\n",
       "Activity  vacuum cleaning  walking  \n",
       "Cluster                             \n",
       "0                       0        0  \n",
       "1                   17543    23876  "
      ]
     },
     "metadata": {},
     "output_type": "display_data"
    },
    {
     "name": "stdout",
     "output_type": "stream",
     "text": [
      "ARI = 0.04\n",
      "Silhouette Score = 0.21\n",
      "CPU times: user 12min 16s, sys: 2min 51s, total: 15min 8s\n",
      "Wall time: 11min 55s\n"
     ]
    }
   ],
   "source": [
    "%%time \n",
    "#these sections take a long time to run so this is here to measure the time (around 15mins)\n",
    "k_means(n_clust=2, data_frame=Data, true_labels=Labels) #running the KMeans function for 2 clusters"
   ]
  },
  {
   "cell_type": "code",
   "execution_count": 46,
   "id": "87426a36",
   "metadata": {},
   "outputs": [
    {
     "data": {
      "text/html": [
       "<div>\n",
       "<style scoped>\n",
       "    .dataframe tbody tr th:only-of-type {\n",
       "        vertical-align: middle;\n",
       "    }\n",
       "\n",
       "    .dataframe tbody tr th {\n",
       "        vertical-align: top;\n",
       "    }\n",
       "\n",
       "    .dataframe thead th {\n",
       "        text-align: right;\n",
       "    }\n",
       "</style>\n",
       "<table border=\"1\" class=\"dataframe\">\n",
       "  <thead>\n",
       "    <tr style=\"text-align: right;\">\n",
       "      <th>Activity</th>\n",
       "      <th>Nordic walking</th>\n",
       "      <th>ascending stairs</th>\n",
       "      <th>cycling</th>\n",
       "      <th>descending stairs</th>\n",
       "      <th>ironing</th>\n",
       "      <th>lying</th>\n",
       "      <th>rope jumping</th>\n",
       "      <th>running</th>\n",
       "      <th>sitting</th>\n",
       "      <th>standing</th>\n",
       "      <th>vacuum cleaning</th>\n",
       "      <th>walking</th>\n",
       "    </tr>\n",
       "    <tr>\n",
       "      <th>Cluster</th>\n",
       "      <th></th>\n",
       "      <th></th>\n",
       "      <th></th>\n",
       "      <th></th>\n",
       "      <th></th>\n",
       "      <th></th>\n",
       "      <th></th>\n",
       "      <th></th>\n",
       "      <th></th>\n",
       "      <th></th>\n",
       "      <th></th>\n",
       "      <th></th>\n",
       "    </tr>\n",
       "  </thead>\n",
       "  <tbody>\n",
       "    <tr>\n",
       "      <th>0</th>\n",
       "      <td>12174</td>\n",
       "      <td>6818</td>\n",
       "      <td>13680</td>\n",
       "      <td>4050</td>\n",
       "      <td>37</td>\n",
       "      <td>990</td>\n",
       "      <td>4830</td>\n",
       "      <td>8307</td>\n",
       "      <td>495</td>\n",
       "      <td>1214</td>\n",
       "      <td>5208</td>\n",
       "      <td>12318</td>\n",
       "    </tr>\n",
       "    <tr>\n",
       "      <th>1</th>\n",
       "      <td>0</td>\n",
       "      <td>0</td>\n",
       "      <td>0</td>\n",
       "      <td>12</td>\n",
       "      <td>0</td>\n",
       "      <td>17486</td>\n",
       "      <td>1</td>\n",
       "      <td>0</td>\n",
       "      <td>7</td>\n",
       "      <td>0</td>\n",
       "      <td>0</td>\n",
       "      <td>0</td>\n",
       "    </tr>\n",
       "    <tr>\n",
       "      <th>2</th>\n",
       "      <td>6645</td>\n",
       "      <td>4917</td>\n",
       "      <td>2786</td>\n",
       "      <td>6448</td>\n",
       "      <td>23834</td>\n",
       "      <td>781</td>\n",
       "      <td>109</td>\n",
       "      <td>1518</td>\n",
       "      <td>18005</td>\n",
       "      <td>17772</td>\n",
       "      <td>12335</td>\n",
       "      <td>11558</td>\n",
       "    </tr>\n",
       "  </tbody>\n",
       "</table>\n",
       "</div>"
      ],
      "text/plain": [
       "Activity  Nordic walking  ascending stairs  cycling  descending stairs  \\\n",
       "Cluster                                                                  \n",
       "0                  12174              6818    13680               4050   \n",
       "1                      0                 0        0                 12   \n",
       "2                   6645              4917     2786               6448   \n",
       "\n",
       "Activity  ironing  lying  rope jumping  running  sitting  standing  \\\n",
       "Cluster                                                              \n",
       "0              37    990          4830     8307      495      1214   \n",
       "1               0  17486             1        0        7         0   \n",
       "2           23834    781           109     1518    18005     17772   \n",
       "\n",
       "Activity  vacuum cleaning  walking  \n",
       "Cluster                             \n",
       "0                    5208    12318  \n",
       "1                       0        0  \n",
       "2                   12335    11558  "
      ]
     },
     "metadata": {},
     "output_type": "display_data"
    },
    {
     "name": "stdout",
     "output_type": "stream",
     "text": [
      "ARI = 0.12\n",
      "Silhouette Score = 0.14\n",
      "CPU times: user 12min 7s, sys: 2min 42s, total: 14min 50s\n",
      "Wall time: 11min 16s\n"
     ]
    }
   ],
   "source": [
    "%%time \n",
    "#these sections take a long time to run so this is here to measure the time (around 15mins)\n",
    "k_means(n_clust=3, data_frame=Data, true_labels=Labels) #running the KMeans function for 3 clusters"
   ]
  },
  {
   "cell_type": "code",
   "execution_count": 47,
   "id": "31eaf0b9",
   "metadata": {},
   "outputs": [
    {
     "data": {
      "text/html": [
       "<div>\n",
       "<style scoped>\n",
       "    .dataframe tbody tr th:only-of-type {\n",
       "        vertical-align: middle;\n",
       "    }\n",
       "\n",
       "    .dataframe tbody tr th {\n",
       "        vertical-align: top;\n",
       "    }\n",
       "\n",
       "    .dataframe thead th {\n",
       "        text-align: right;\n",
       "    }\n",
       "</style>\n",
       "<table border=\"1\" class=\"dataframe\">\n",
       "  <thead>\n",
       "    <tr style=\"text-align: right;\">\n",
       "      <th>Activity</th>\n",
       "      <th>Nordic walking</th>\n",
       "      <th>ascending stairs</th>\n",
       "      <th>cycling</th>\n",
       "      <th>descending stairs</th>\n",
       "      <th>ironing</th>\n",
       "      <th>lying</th>\n",
       "      <th>rope jumping</th>\n",
       "      <th>running</th>\n",
       "      <th>sitting</th>\n",
       "      <th>standing</th>\n",
       "      <th>vacuum cleaning</th>\n",
       "      <th>walking</th>\n",
       "    </tr>\n",
       "    <tr>\n",
       "      <th>Cluster</th>\n",
       "      <th></th>\n",
       "      <th></th>\n",
       "      <th></th>\n",
       "      <th></th>\n",
       "      <th></th>\n",
       "      <th></th>\n",
       "      <th></th>\n",
       "      <th></th>\n",
       "      <th></th>\n",
       "      <th></th>\n",
       "      <th></th>\n",
       "      <th></th>\n",
       "    </tr>\n",
       "  </thead>\n",
       "  <tbody>\n",
       "    <tr>\n",
       "      <th>0</th>\n",
       "      <td>4577</td>\n",
       "      <td>3340</td>\n",
       "      <td>2631</td>\n",
       "      <td>5420</td>\n",
       "      <td>23796</td>\n",
       "      <td>851</td>\n",
       "      <td>72</td>\n",
       "      <td>496</td>\n",
       "      <td>18008</td>\n",
       "      <td>17665</td>\n",
       "      <td>11418</td>\n",
       "      <td>7066</td>\n",
       "    </tr>\n",
       "    <tr>\n",
       "      <th>1</th>\n",
       "      <td>5240</td>\n",
       "      <td>2132</td>\n",
       "      <td>381</td>\n",
       "      <td>2259</td>\n",
       "      <td>7</td>\n",
       "      <td>21</td>\n",
       "      <td>1163</td>\n",
       "      <td>3662</td>\n",
       "      <td>12</td>\n",
       "      <td>17</td>\n",
       "      <td>506</td>\n",
       "      <td>6841</td>\n",
       "    </tr>\n",
       "    <tr>\n",
       "      <th>2</th>\n",
       "      <td>9002</td>\n",
       "      <td>6263</td>\n",
       "      <td>13454</td>\n",
       "      <td>2822</td>\n",
       "      <td>68</td>\n",
       "      <td>902</td>\n",
       "      <td>3704</td>\n",
       "      <td>5666</td>\n",
       "      <td>484</td>\n",
       "      <td>1304</td>\n",
       "      <td>5619</td>\n",
       "      <td>9969</td>\n",
       "    </tr>\n",
       "    <tr>\n",
       "      <th>3</th>\n",
       "      <td>0</td>\n",
       "      <td>0</td>\n",
       "      <td>0</td>\n",
       "      <td>9</td>\n",
       "      <td>0</td>\n",
       "      <td>17483</td>\n",
       "      <td>1</td>\n",
       "      <td>1</td>\n",
       "      <td>3</td>\n",
       "      <td>0</td>\n",
       "      <td>0</td>\n",
       "      <td>0</td>\n",
       "    </tr>\n",
       "  </tbody>\n",
       "</table>\n",
       "</div>"
      ],
      "text/plain": [
       "Activity  Nordic walking  ascending stairs  cycling  descending stairs  \\\n",
       "Cluster                                                                  \n",
       "0                   4577              3340     2631               5420   \n",
       "1                   5240              2132      381               2259   \n",
       "2                   9002              6263    13454               2822   \n",
       "3                      0                 0        0                  9   \n",
       "\n",
       "Activity  ironing  lying  rope jumping  running  sitting  standing  \\\n",
       "Cluster                                                              \n",
       "0           23796    851            72      496    18008     17665   \n",
       "1               7     21          1163     3662       12        17   \n",
       "2              68    902          3704     5666      484      1304   \n",
       "3               0  17483             1        1        3         0   \n",
       "\n",
       "Activity  vacuum cleaning  walking  \n",
       "Cluster                             \n",
       "0                   11418     7066  \n",
       "1                     506     6841  \n",
       "2                    5619     9969  \n",
       "3                       0        0  "
      ]
     },
     "metadata": {},
     "output_type": "display_data"
    },
    {
     "name": "stdout",
     "output_type": "stream",
     "text": [
      "ARI = 0.15\n",
      "Silhouette Score = 0.13\n",
      "CPU times: user 11min 44s, sys: 2min 46s, total: 14min 30s\n",
      "Wall time: 10min 52s\n"
     ]
    }
   ],
   "source": [
    "%%time \n",
    "#these sections take a long time to run so this is here to measure the time (around 15mins)\n",
    "k_means(n_clust=4, data_frame=Data, true_labels=Labels) #running the KMeans function for 4 clusters"
   ]
  },
  {
   "cell_type": "markdown",
   "id": "c446b1ce",
   "metadata": {},
   "source": [
    "None of our clusters are very promising based on the scores we have seen however we will still visualise them below.\n",
    "\n",
    "Using 3 clusters as this is the best balance of silhouette score and ARI."
   ]
  },
  {
   "cell_type": "code",
   "execution_count": 48,
   "id": "aa010426",
   "metadata": {},
   "outputs": [
    {
     "data": {
      "image/png": "[encoded data removed]",
      "text/plain": [
       "<Figure size 504x504 with 1 Axes>"
      ]
     },
     "metadata": {
      "needs_background": "light"
     },
     "output_type": "display_data"
    }
   ],
   "source": [
    "K=3 #number of clusters\n",
    "\n",
    "df_1=df.loc[:,'Heartrate':'IMU_Ankle_3D_magnetometer_3'] #create new dataframe for columns heart rate to ankle 3d magnetommeter\n",
    "data=df_1.to_numpy() #converts df to numpy array\n",
    "\n",
    "cl_K3=cluster.KMeans(init='k-means++',n_clusters=K) #runs Kmeans function, k-means++ speeds up convergence\n",
    "cl_K3.fit(data) #training the model\n",
    "cl_K3.predict(data) #predicting the labels\n",
    "\n",
    "#To plot the clusters we need the co-ordinates of the points to be put in to lists\n",
    "def divide(data,labels):\n",
    "    xclusters=defaultdict(list)\n",
    "    yclusters=defaultdict(list)\n",
    "    for datapoint,label in zip(data,labels):\n",
    "        x=datapoint[0]\n",
    "        y=datapoint[1]\n",
    "        xclusters[label].append(x)\n",
    "        yclusters[label].append(y)\n",
    "    return xclusters,yclusters    \n",
    "\n",
    "\n",
    "clusters=divide(data,cl_K3.predict(data)) # apply the function that makes the data point lists to the predicted \n",
    "\n",
    "#plotting 3d graph\n",
    "fig = plt.figure(figsize=(7,7))\n",
    "ax = fig.add_subplot(projection='3d')\n",
    "ax.scatter(clusters[0][0],clusters[1][0])\n",
    "ax.scatter(clusters[0][1],clusters[1][1])\n",
    "ax.scatter(clusters[0][2],clusters[1][2])\n",
    "ax.set_xlabel('X Label')\n",
    "ax.set_ylabel('Y Label')\n",
    "ax.set_zlabel('Z Label')\n",
    "plt.show()"
   ]
  },
  {
   "cell_type": "markdown",
   "id": "25289bf5",
   "metadata": {},
   "source": [
    "---\n",
    "## 9. Logistical Regression <a name=\"logreg\"></a>\n",
    "\n",
    "Logistical regression is a form of supervised learning, it is a classification algorithm. It uses probabilities as a predictive analysis algorithm.\n",
    "\n",
    "We first scale our data, but we only need to include our actual data points so I have removed our downsampled timestamps, normal timestamps, subjects and activity names, as these columns do not need to be analysed. We then separate out our ActivityID column as this is supervised learning we are using the activities as our labels."
   ]
  },
  {
   "cell_type": "code",
   "execution_count": 49,
   "id": "b7709546",
   "metadata": {},
   "outputs": [
    {
     "data": {
      "text/html": [
       "<div>\n",
       "<style scoped>\n",
       "    .dataframe tbody tr th:only-of-type {\n",
       "        vertical-align: middle;\n",
       "    }\n",
       "\n",
       "    .dataframe tbody tr th {\n",
       "        vertical-align: top;\n",
       "    }\n",
       "\n",
       "    .dataframe thead th {\n",
       "        text-align: right;\n",
       "    }\n",
       "</style>\n",
       "<table border=\"1\" class=\"dataframe\">\n",
       "  <thead>\n",
       "    <tr style=\"text-align: right;\">\n",
       "      <th></th>\n",
       "      <th>ActivityID</th>\n",
       "      <th>Heartrate</th>\n",
       "      <th>IMU_Hand_Temp</th>\n",
       "      <th>IMU_Hand_3D_acceleration_1</th>\n",
       "      <th>IMU_Hand_3D_acceleration_2</th>\n",
       "      <th>IMU_Hand_3D_acceleration_3</th>\n",
       "      <th>IMU_Hand_3D_gyroscope_1</th>\n",
       "      <th>IMU_Hand_3D_gyroscope_2</th>\n",
       "      <th>IMU_Hand_3D_gyroscope_3</th>\n",
       "      <th>IMU_Hand_3D_magnetometer_1</th>\n",
       "      <th>...</th>\n",
       "      <th>IMU_Ankle_Temp</th>\n",
       "      <th>IMU_Ankle_3D_acceleration_1</th>\n",
       "      <th>IMU_Ankle_3D_acceleration_2</th>\n",
       "      <th>IMU_Ankle_3D_acceleration_3</th>\n",
       "      <th>IMU_Ankle_3D_gyroscope_1</th>\n",
       "      <th>IMU_Ankle_3D_gyroscope_2</th>\n",
       "      <th>IMU_Ankle_3D_gyroscope_3</th>\n",
       "      <th>IMU_Ankle_3D_magnetometer_1</th>\n",
       "      <th>IMU_Ankle_3D_magnetometer_2</th>\n",
       "      <th>IMU_Ankle_3D_magnetometer_3</th>\n",
       "    </tr>\n",
       "  </thead>\n",
       "  <tbody>\n",
       "    <tr>\n",
       "      <th>25199</th>\n",
       "      <td>2</td>\n",
       "      <td>-1.052632</td>\n",
       "      <td>-0.605263</td>\n",
       "      <td>0.470480</td>\n",
       "      <td>0.554536</td>\n",
       "      <td>0.689585</td>\n",
       "      <td>-0.005031</td>\n",
       "      <td>-0.019849</td>\n",
       "      <td>-0.004661</td>\n",
       "      <td>-0.453618</td>\n",
       "      <td>...</td>\n",
       "      <td>-1.791667</td>\n",
       "      <td>-0.217304</td>\n",
       "      <td>-0.284657</td>\n",
       "      <td>-0.465174</td>\n",
       "      <td>0.022438</td>\n",
       "      <td>-0.045475</td>\n",
       "      <td>0.007732</td>\n",
       "      <td>1.223394</td>\n",
       "      <td>-0.262174</td>\n",
       "      <td>-0.261265</td>\n",
       "    </tr>\n",
       "    <tr>\n",
       "      <th>65155</th>\n",
       "      <td>17</td>\n",
       "      <td>0.052632</td>\n",
       "      <td>0.157895</td>\n",
       "      <td>-0.002152</td>\n",
       "      <td>-0.831132</td>\n",
       "      <td>0.758345</td>\n",
       "      <td>2.789745</td>\n",
       "      <td>-0.495979</td>\n",
       "      <td>-0.290999</td>\n",
       "      <td>1.087985</td>\n",
       "      <td>...</td>\n",
       "      <td>0.083333</td>\n",
       "      <td>0.334359</td>\n",
       "      <td>0.167232</td>\n",
       "      <td>0.937417</td>\n",
       "      <td>0.068019</td>\n",
       "      <td>2.412273</td>\n",
       "      <td>0.383805</td>\n",
       "      <td>-0.204757</td>\n",
       "      <td>-0.162542</td>\n",
       "      <td>0.765297</td>\n",
       "    </tr>\n",
       "    <tr>\n",
       "      <th>93827</th>\n",
       "      <td>16</td>\n",
       "      <td>-0.315789</td>\n",
       "      <td>0.026316</td>\n",
       "      <td>-0.442869</td>\n",
       "      <td>0.594210</td>\n",
       "      <td>-0.562290</td>\n",
       "      <td>0.002658</td>\n",
       "      <td>-2.401127</td>\n",
       "      <td>-0.858714</td>\n",
       "      <td>0.211252</td>\n",
       "      <td>...</td>\n",
       "      <td>0.041667</td>\n",
       "      <td>0.880307</td>\n",
       "      <td>0.253775</td>\n",
       "      <td>0.441544</td>\n",
       "      <td>1.110999</td>\n",
       "      <td>-2.743347</td>\n",
       "      <td>0.736954</td>\n",
       "      <td>-0.258967</td>\n",
       "      <td>-0.651796</td>\n",
       "      <td>0.249234</td>\n",
       "    </tr>\n",
       "    <tr>\n",
       "      <th>116699</th>\n",
       "      <td>12</td>\n",
       "      <td>1.631579</td>\n",
       "      <td>0.342105</td>\n",
       "      <td>-0.647361</td>\n",
       "      <td>-1.138530</td>\n",
       "      <td>-0.839191</td>\n",
       "      <td>0.384836</td>\n",
       "      <td>-0.938393</td>\n",
       "      <td>-1.472704</td>\n",
       "      <td>0.283390</td>\n",
       "      <td>...</td>\n",
       "      <td>-0.125000</td>\n",
       "      <td>0.476694</td>\n",
       "      <td>-0.014671</td>\n",
       "      <td>-0.303762</td>\n",
       "      <td>-1.329246</td>\n",
       "      <td>2.342571</td>\n",
       "      <td>2.122575</td>\n",
       "      <td>-0.119282</td>\n",
       "      <td>0.209661</td>\n",
       "      <td>0.159240</td>\n",
       "    </tr>\n",
       "    <tr>\n",
       "      <th>174788</th>\n",
       "      <td>7</td>\n",
       "      <td>0.289474</td>\n",
       "      <td>-1.052632</td>\n",
       "      <td>1.021523</td>\n",
       "      <td>2.088703</td>\n",
       "      <td>0.053805</td>\n",
       "      <td>1.150067</td>\n",
       "      <td>-0.226268</td>\n",
       "      <td>-1.308977</td>\n",
       "      <td>-1.205259</td>\n",
       "      <td>...</td>\n",
       "      <td>0.125000</td>\n",
       "      <td>5.981874</td>\n",
       "      <td>0.435914</td>\n",
       "      <td>2.656447</td>\n",
       "      <td>0.459407</td>\n",
       "      <td>1.584956</td>\n",
       "      <td>-4.684321</td>\n",
       "      <td>0.458803</td>\n",
       "      <td>1.077206</td>\n",
       "      <td>0.183923</td>\n",
       "    </tr>\n",
       "  </tbody>\n",
       "</table>\n",
       "<p>5 rows × 32 columns</p>\n",
       "</div>"
      ],
      "text/plain": [
       "        ActivityID  Heartrate  IMU_Hand_Temp  IMU_Hand_3D_acceleration_1  \\\n",
       "25199            2  -1.052632      -0.605263                    0.470480   \n",
       "65155           17   0.052632       0.157895                   -0.002152   \n",
       "93827           16  -0.315789       0.026316                   -0.442869   \n",
       "116699          12   1.631579       0.342105                   -0.647361   \n",
       "174788           7   0.289474      -1.052632                    1.021523   \n",
       "\n",
       "        IMU_Hand_3D_acceleration_2  IMU_Hand_3D_acceleration_3  \\\n",
       "25199                     0.554536                    0.689585   \n",
       "65155                    -0.831132                    0.758345   \n",
       "93827                     0.594210                   -0.562290   \n",
       "116699                   -1.138530                   -0.839191   \n",
       "174788                    2.088703                    0.053805   \n",
       "\n",
       "        IMU_Hand_3D_gyroscope_1  IMU_Hand_3D_gyroscope_2  \\\n",
       "25199                 -0.005031                -0.019849   \n",
       "65155                  2.789745                -0.495979   \n",
       "93827                  0.002658                -2.401127   \n",
       "116699                 0.384836                -0.938393   \n",
       "174788                 1.150067                -0.226268   \n",
       "\n",
       "        IMU_Hand_3D_gyroscope_3  IMU_Hand_3D_magnetometer_1  ...  \\\n",
       "25199                 -0.004661                   -0.453618  ...   \n",
       "65155                 -0.290999                    1.087985  ...   \n",
       "93827                 -0.858714                    0.211252  ...   \n",
       "116699                -1.472704                    0.283390  ...   \n",
       "174788                -1.308977                   -1.205259  ...   \n",
       "\n",
       "        IMU_Ankle_Temp  IMU_Ankle_3D_acceleration_1  \\\n",
       "25199        -1.791667                    -0.217304   \n",
       "65155         0.083333                     0.334359   \n",
       "93827         0.041667                     0.880307   \n",
       "116699       -0.125000                     0.476694   \n",
       "174788        0.125000                     5.981874   \n",
       "\n",
       "        IMU_Ankle_3D_acceleration_2  IMU_Ankle_3D_acceleration_3  \\\n",
       "25199                     -0.284657                    -0.465174   \n",
       "65155                      0.167232                     0.937417   \n",
       "93827                      0.253775                     0.441544   \n",
       "116699                    -0.014671                    -0.303762   \n",
       "174788                     0.435914                     2.656447   \n",
       "\n",
       "        IMU_Ankle_3D_gyroscope_1  IMU_Ankle_3D_gyroscope_2  \\\n",
       "25199                   0.022438                 -0.045475   \n",
       "65155                   0.068019                  2.412273   \n",
       "93827                   1.110999                 -2.743347   \n",
       "116699                 -1.329246                  2.342571   \n",
       "174788                  0.459407                  1.584956   \n",
       "\n",
       "        IMU_Ankle_3D_gyroscope_3  IMU_Ankle_3D_magnetometer_1  \\\n",
       "25199                   0.007732                     1.223394   \n",
       "65155                   0.383805                    -0.204757   \n",
       "93827                   0.736954                    -0.258967   \n",
       "116699                  2.122575                    -0.119282   \n",
       "174788                 -4.684321                     0.458803   \n",
       "\n",
       "        IMU_Ankle_3D_magnetometer_2  IMU_Ankle_3D_magnetometer_3  \n",
       "25199                     -0.262174                    -0.261265  \n",
       "65155                     -0.162542                     0.765297  \n",
       "93827                     -0.651796                     0.249234  \n",
       "116699                     0.209661                     0.159240  \n",
       "174788                     1.077206                     0.183923  \n",
       "\n",
       "[5 rows x 32 columns]"
      ]
     },
     "execution_count": 49,
     "metadata": {},
     "output_type": "execute_result"
    }
   ],
   "source": [
    "#apply scaling to all columns except subject and activity \n",
    "scaler = RobustScaler()\n",
    "dfd_scale = dfd.copy()\n",
    "df_test_scale = testdf.copy()\n",
    "\n",
    "dfd_scale=dfd_scale.drop([\"DStime\",\"Timestamp\",\"subject\",\"Activity\"],axis=1)\n",
    "df_test_scale=df_test_scale.drop([\"DStime\",\"Timestamp\", \"subject\",\"Activity\"],axis=1)\n",
    "\n",
    "dfd_scale.iloc[:,1:32] = scaler.fit_transform(dfd_scale.iloc[:,1:32])\n",
    "df_test_scale.iloc[:,1:32] = scaler.fit_transform(df_test_scale.iloc[:,1:32])\n",
    "\n",
    "#development set scaling one set without activityID labels and one set with only the labels\n",
    "xd = dfd_scale.drop('ActivityID', axis=1).values\n",
    "yd = dfd_scale['ActivityID'].values\n",
    "\n",
    "# test set scaling one set without activityID labels and one set with only the labels\n",
    "xt = dfd_scale.drop('ActivityID', axis=1).values\n",
    "yt = dfd_scale['ActivityID'].values\n",
    "\n",
    "dfd_scale.head()"
   ]
  },
  {
   "cell_type": "markdown",
   "id": "9a1804c4",
   "metadata": {},
   "source": [
    "Now that we have scaled our data we can run out analysis and "
   ]
  },
  {
   "cell_type": "code",
   "execution_count": 51,
   "id": "155af238",
   "metadata": {},
   "outputs": [
    {
     "name": "stderr",
     "output_type": "stream",
     "text": [
      "/Users/leila/opt/anaconda3/lib/python3.8/site-packages/sklearn/linear_model/_logistic.py:814: ConvergenceWarning: lbfgs failed to converge (status=1):\n",
      "STOP: TOTAL NO. of ITERATIONS REACHED LIMIT.\n",
      "\n",
      "Increase the number of iterations (max_iter) or scale the data as shown in:\n",
      "    https://scikit-learn.org/stable/modules/preprocessing.html\n",
      "Please also refer to the documentation for alternative solver options:\n",
      "    https://scikit-learn.org/stable/modules/linear_model.html#logistic-regression\n",
      "  n_iter_i = _check_optimize_result(\n"
     ]
    },
    {
     "name": "stdout",
     "output_type": "stream",
     "text": [
      "Precision score: 0.812\n",
      "Recall score: 0.8\n",
      "F1 score: 0.805\n"
     ]
    }
   ],
   "source": [
    "logreg = LogisticRegression() #setting Sklearn logistic regression function to shorter variable 'logreg'\n",
    "logreg.fit(X=xd, y=yd) #training the model based on our scaled development set\n",
    "y_pred_lr = logreg.predict(xt) #then using our test set to predict\n",
    "\n",
    "#calculating precision, recall and F1 score to see how the regression is performing\n",
    "def get_metrics (actual,prediction):\n",
    "    prec = precision_score(actual, prediction,average=None).mean()\n",
    "    rec = recall_score(actual, prediction, average=None).mean()\n",
    "    f1 = f1_score(actual, prediction, average=None).mean()\n",
    "    print(\"Precision score: \"+ str(round(prec,3)))\n",
    "    print(\"Recall score: \"+ str(round(rec,3)))\n",
    "    print(\"F1 score: \"+ str(round(f1,3)))\n",
    "    \n",
    "get_metrics(yt, y_pred_lr)"
   ]
  },
  {
   "cell_type": "markdown",
   "id": "d68495bd",
   "metadata": {},
   "source": [
    "**Precision score** is between 0 and 1 and uses the formula $$true\\:positive\\over\\ predictive\\:positives$$ so we want our value of 0.812 is close to 1 which suggests good precision\n",
    "\n",
    "**Recall score** is between 0 and 1 and uses the formula $$true\\:positive\\over\\ actual\\:positives$$ so we also want this value of 0.8 is close to 1 which suggests \n",
    "\n",
    "**F1 score** is between 0 and 1 and uses the formula $$2 * precision*recall\\over\\ precision + recall$$ so we also want this value to be close to 1."
   ]
  },
  {
   "cell_type": "markdown",
   "id": "333b40e8",
   "metadata": {},
   "source": [
    "---\n",
    "## 10. Recommendations and Summary <a name=\"recs\"></a>"
   ]
  },
  {
   "cell_type": "markdown",
   "id": "5fbfa15e",
   "metadata": {},
   "source": [
    "### 10.1 Recommendations\n",
    "\n",
    "Based all of the evidence gathered from my report I would make three key recommendations to aid the development of hardware of software that could analyse the amount of exercise a user has performed.\n",
    "\n",
    "1. **If their heart rate is over 120 BPM for an extended period (over a minute), then they are most likely performing a high intensity activity.** The level of 120 BPM is based off the levels seen in my exploratory data analysis and hypothesis testing. In my first hypothesis test we also found it to be statistically accurate that higher intensity activities lead to higher heart rates.\n",
    "\n",
    "2. **If their chest 3D gyroscope data 2 is greater than 0.35 or less than 0.35 then they are most likely climbing or descending stairs, respectively.** 0.35 has been specified from looking at our exploratory data analysis and our hypothesis tests, for example the average chest gyroscope data for people using stairs was 0.65 compared to 0.25 for those who were not. In our hypothesis test we showed that people who were using stairs have a statistically significant difference in their 3D gyroscope data, where those using stairs was higher. The data used in that test was absolute so that the negative number for people going down stairs did not cancel out the data.\n",
    "\n",
    "3. **Temperature does not correlate to activity so this should not be used as a parameter** Before analysing my data I had the (incorrect) preconceived notion that increased activity would lead to increased temperature, however as seen in my third hypothesis test, this is inaccurate and therefore should not be used a method to measure activity.\n",
    "\n",
    "\n",
    "### 10.2 Summary of Specific Requirements\n",
    "\n",
    "Going back to the specific requirements of the report I will review what I have done for each requirement and the overall summary of the report.\n",
    "\n",
    "#### <u>Carry out thorough exploratory data analysis and appropriately handle missing or dirty data:</u>\n",
    "In section 2 I cleaned a filtered my data but removing all invalid data that was noted in the readme file:\n",
    "- any rows where activity number is 0 \n",
    "- the 6g acceleration columns as they were not precisely calibrated\n",
    "- all orientation columns as the data was invalid\n",
    "I also cleaned the data by removing all Nan files, but only after I had filled in the gaps in the heart rate data as that was only ~9Hz whereas the rest of the data was 100Hz, which meant there were lots of NaN values in the heart rate column.\n",
    "\n",
    "Some of the activities were optional which lead to less participants such as car driving and watching TV that only have one participant and playing soccer only has two. For that reason I will also be removing all of the optional activities.\n",
    "\n",
    "For my **EDA** I looked at three different key variables, **heart rate, temperature, and chest gyroscope** and I also created a heat map to show the correlation between all of the variables.\n",
    "\n",
    "When looking at heart rate I created a bar chart for each activity, but to see a bit more detail I made a box plot of all of the data and sorted it by median heart rate with a superimposed line for the mean heart rate of the data to show which activities were higher or lower.\n",
    "    \n",
    "Analysing the temperature data I created a box plot that combined all of the three temperature data points we had into one, it showed that chest data was the highest but also closet to the users actual temperature rather than their surrounds which I why I used chest temperature for my hypothesis test.\n",
    "    \n",
    "Observing the chest gyroscope data it was clear to see on the bar chart that stair related activities were standing out in opposite directions for climbing and going down stairs. \n",
    "\n",
    "\n",
    "#### <u> Develop and test at least one hypothesis for a relationship between a single pair of attributes: </u>\n",
    "Here are the three hypothesis tests I ran and their corresponding results:\n",
    "\n",
    ">**If** higher intensity activities are related to heart rate, **then** when intensive activities are performed heart rate will be higher than those who are performing lower intensity activities.\n",
    "We **<font color='green'>accept</font>** the alternate hypothesis.\n",
    "\n",
    ">**If** stair ascending or descending activities are related to latitude change, **then** when stair activities are performed chest gyroscope 2 will have a higher absolute mean value.\n",
    "We **<font color='green'>accept</font>** the alternate hypothesis.\n",
    "\n",
    ">**If** high temperature is related to high intensity activities **then** when intensive activities are performed mean temperature will be higher than those who are performing lower intensity activities.\n",
    "We **<font color='red'>reject</font>** the alternate hypothesis.\n",
    "\n",
    "#### <u> Develop and test at least one model which uses multiple attributes to make predictions: </u>\n",
    "I created two model, cluster analysis and logistical regression.\n",
    "\n",
    "For details on how the models work please see the respective sections, here I will take about the results of training those models.\n",
    "\n",
    "For my clustering model, I created a graph to find the optimum number of clusters however the results where unclear so I decided to run the models with 2,3 and 4 clusters to see the silhouette and ARI score. Once running those models the scores for each one was not very promising with the highest silhouette score being 0.21 and the highest ARI at 0.15 this would suggest there are not clear clusters in the data. If I had more resources I would try to create the cluster model again but with a stronger emphasis on the heart rate as I think the number of other variables out weighed how important this variable is.\n",
    "\n",
    "My logistical regression model, however, had some much more promising results after training the model when testing the values where much more positive with an F1 score of 0.805 - where the F1 score is from 0 to 1 and measures the model's accuracy on the dataset.\n"
   ]
  },
  {
   "cell_type": "markdown",
   "id": "0e2894e0",
   "metadata": {},
   "source": [
    "#### Word Count"
   ]
  },
  {
   "cell_type": "code",
   "execution_count": 52,
   "id": "14c6bd86",
   "metadata": {},
   "outputs": [
    {
     "name": "stderr",
     "output_type": "stream",
     "text": [
      "/Users/leila/opt/anaconda3/lib/python3.8/site-packages/IPython/nbformat.py:12: ShimWarning: The `IPython.nbformat` package has been deprecated since IPython 4.0. You should import from nbformat instead.\n",
      "  warn(\"The `IPython.nbformat` package has been deprecated since IPython 4.0. \"\n",
      "/Users/leila/opt/anaconda3/lib/python3.8/site-packages/nbformat/current.py:15: UserWarning: nbformat.current is deprecated.\n",
      "\n",
      "- use nbformat for read/write/validate public API\n",
      "- use nbformat.vX directly to composing notebooks of a particular version\n",
      "\n",
      "  warnings.warn(\"\"\"nbformat.current is deprecated.\n"
     ]
    },
    {
     "name": "stdout",
     "output_type": "stream",
     "text": [
      "Word Count: 4157\n"
     ]
    }
   ],
   "source": [
    "import io\n",
    "from IPython.nbformat import current\n",
    "\n",
    "with io.open('Report 2.ipynb', 'r', encoding='utf-8') as f:\n",
    "    nb = current.read(f, 'json')\n",
    "\n",
    "word_count = 0\n",
    "for cell in nb.worksheets[0].cells:\n",
    "    if cell.cell_type == \"markdown\":\n",
    "        \n",
    "        word_count += len(cell['source'].replace('# ', '').lstrip().split(' '))\n",
    "print('Word Count: '+ str(word_count))"
   ]
  },
  {
   "cell_type": "markdown",
   "id": "bbaf2fa2",
   "metadata": {},
   "source": [
    "## References\n",
    "---\n",
    "Medium. 2022. Note to Self: Pandas Sort Boxplots by Median. [online] Available at: <https://medium.com/the-barometer/note-to-self-pandas-sort-boxplots-by-median-2a6c70c11644>\n",
    "\n",
    "Mayo Clinic. 2022. 2 easy, accurate ways to measure your heart rate. [online] Available at: <https://www.mayoclinic.org/healthy-lifestyle/fitness/expert-answers/heart-rate/faq-20057979#:~:text=A%20normal%20resting%20heart%20rate%20for%20adults%20ranges%20from%2060,to%2040%20beats%20per%20minute> \n",
    "\n",
    "Matplotlib.org. 2022. Choosing Colormaps in Matplotlib — Matplotlib 3.5.1 documentation. [online] Available at: <https://matplotlib.org/stable/tutorials/colors/colormaps.html>\n",
    "\n",
    "Kaggle.com. 2022. K-Means Clustering + PCA. [online] Available at: <https://www.kaggle.com/ruslankl/k-means-clustering-pca>\n",
    "\n",
    "Built In. 2022. A Step-by-Step Explanation of Principal Component Analysis (PCA). [online] Available at: <https://builtin.com/data-science/step-step-explanation-principal-component-analysis>\n",
    "\n",
    "Styles, Vanessa; Lab 6 Solutions Exercise 1\n",
    "\n",
    "Styles, Vanessa; Lab 7 Solutions Exercise 0.1,0.2"
   ]
  }
 ],
 "metadata": {
  "kernelspec": {
   "display_name": "Python 3 (ipykernel)",
   "language": "python",
   "name": "python3"
  },
  "language_info": {
   "codemirror_mode": {
    "name": "ipython",
    "version": 3
   },
   "file_extension": ".py",
   "mimetype": "text/x-python",
   "name": "python",
   "nbconvert_exporter": "python",
   "pygments_lexer": "ipython3",
   "version": "3.8.8"
  },
  "toc": {
   "base_numbering": 1,
   "nav_menu": {},
   "number_sections": false,
   "sideBar": true,
   "skip_h1_title": false,
   "title_cell": "Table of Contents",
   "title_sidebar": "Contents",
   "toc_cell": false,
   "toc_position": {
    "height": "calc(100% - 180px)",
    "left": "10px",
    "top": "150px",
    "width": "183px"
   },
   "toc_section_display": true,
   "toc_window_display": true
  }
 },
 "nbformat": 4,
 "nbformat_minor": 5
}
